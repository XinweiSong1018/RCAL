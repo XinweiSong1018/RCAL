{
 "cells": [
  {
   "cell_type": "code",
   "execution_count": 2,
   "id": "62be2d99-dffa-4f35-a2c2-51644410bab3",
   "metadata": {},
   "outputs": [],
   "source": [
    "import os\n",
    "import torch\n",
    "import argparse\n",
    "from core.dataset import MMDataset\n",
    "from core.scheduler import get_scheduler\n",
    "from core.utils import AverageMeter, clear_memory, save_validation_metrics, save_best_model\n",
    "from models.model import Model\n",
    "from core.metric import MetricsTop\n",
    "import yaml"
   ]
  },
  {
   "cell_type": "code",
   "execution_count": 3,
   "id": "bb24fa59-c2f5-4cd6-9bd0-bb6fcf81e839",
   "metadata": {},
   "outputs": [
    {
     "name": "stderr",
     "output_type": "stream",
     "text": [
      "100%|██████████| 229/229 [01:40<00:00,  2.28it/s]\n"
     ]
    }
   ],
   "source": [
    "train_dataset = MMDataset(dataset='mosi',mode='train', image_num=5, generate_num = 4)\n",
    "valid_dataset = MMDataset(dataset='mosi',mode='valid', image_num=5, generate_num = 1)"
   ]
  },
  {
   "cell_type": "code",
   "execution_count": 8,
   "id": "df69c569-bd29-4e22-83c1-3de719eb3568",
   "metadata": {},
   "outputs": [
    {
     "data": {
      "text/plain": [
       "torch.Size([5, 3, 224, 224])"
      ]
     },
     "execution_count": 8,
     "metadata": {},
     "output_type": "execute_result"
    }
   ],
   "source": [
    "model = Model()"
   ]
  },
  {
   "cell_type": "code",
   "execution_count": null,
   "id": "f62084bf-ec16-4523-9088-76571baf4149",
   "metadata": {},
   "outputs": [],
   "source": []
  }
 ],
 "metadata": {
  "kernelspec": {
   "display_name": "Python (MultiModal)",
   "language": "python",
   "name": "multimodal"
  },
  "language_info": {
   "codemirror_mode": {
    "name": "ipython",
    "version": 3
   },
   "file_extension": ".py",
   "mimetype": "text/x-python",
   "name": "python",
   "nbconvert_exporter": "python",
   "pygments_lexer": "ipython3",
   "version": "3.8.20"
  }
 },
 "nbformat": 4,
 "nbformat_minor": 5
}
