{
 "cells": [
  {
   "cell_type": "code",
   "execution_count": 1,
   "metadata": {},
   "outputs": [],
   "source": [
    "import sys\n",
    "import os\n",
    "\n",
    "# 获取当前 Notebook 的目录（根目录）\n",
    "notebook_dir = os.getcwd()\n",
    "\n",
    "# 将 ALMT/models 目录添加到 sys.path\n",
    "sys.path.append(os.path.join(notebook_dir, \"ALMT\", \"models\"))\n",
    "sys.path.append(os.path.join(notebook_dir, \"ALMT\", \"core\"))\n",
    "sys.path.append(os.path.join(notebook_dir, \"ALMT\"))"
   ]
  },
  {
   "cell_type": "code",
   "execution_count": 10,
   "metadata": {},
   "outputs": [],
   "source": [
    "del sys.modules['almt_layer']\n",
    "del sys.modules['dataset']"
   ]
  },
  {
   "cell_type": "code",
   "execution_count": 2,
   "metadata": {},
   "outputs": [
    {
     "name": "stderr",
     "output_type": "stream",
     "text": [
      "2025-04-24 19:01:33.714981: I tensorflow/tsl/cuda/cudart_stub.cc:28] Could not find cuda drivers on your machine, GPU will not be used.\n",
      "2025-04-24 19:01:33.935352: I tensorflow/core/platform/cpu_feature_guard.cc:182] This TensorFlow binary is optimized to use available CPU instructions in performance-critical operations.\n",
      "To enable the following instructions: AVX2 AVX512F FMA, in other operations, rebuild TensorFlow with the appropriate compiler flags.\n",
      "2025-04-24 19:01:38.364812: W tensorflow/compiler/tf2tensorrt/utils/py_utils.cc:38] TF-TRT Warning: Could not find TensorRT\n"
     ]
    },
    {
     "name": "stdout",
     "output_type": "stream",
     "text": [
      "PRO TIP 💡 Replace 'model=yolov5s.pt' with new 'model=yolov5su.pt'.\n",
      "YOLOv5 'u' models are trained with https://github.com/ultralytics/ultralytics and feature improved performance vs standard YOLOv5 models trained with https://github.com/ultralytics/yolov5.\n",
      "\n"
     ]
    }
   ],
   "source": [
    "import torch\n",
    "from torch import nn\n",
    "from almt_layer import Transformer,CrossTransformerEncoder, HhyperLearningEncoder, CrossTransformer, Transformer\n",
    "from bert import BertTextEncoder\n",
    "from einops import repeat\n",
    "from dataset import MMDataset\n",
    "from core.scheduler import GradualWarmupScheduler\n",
    "from metric import MetricsTop\n",
    "\n",
    "\n",
    "import numpy as np\n",
    "import torch.optim as optim\n",
    "from torchvision import datasets, models, transforms\n",
    "\n",
    "from torch.utils.data import DataLoader, Dataset\n",
    "import torch.optim.lr_scheduler as lr_scheduler\n",
    "from PIL import Image\n",
    "\n",
    "import time\n",
    "from tqdm import tqdm\n",
    "from torch.distributions import Bernoulli\n",
    "import csv\n",
    "\n"
   ]
  },
  {
   "cell_type": "code",
   "execution_count": 74,
   "metadata": {},
   "outputs": [],
   "source": [
    "import gc\n",
    "\n",
    "def clear_memory():\n",
    "    torch.cuda.empty_cache()  # 释放 GPU 缓存\n",
    "    gc.collect()  # 释放 CPU 内存\n",
    "\n",
    "clear_memory()"
   ]
  },
  {
   "cell_type": "code",
   "execution_count": 4,
   "metadata": {},
   "outputs": [
    {
     "name": "stderr",
     "output_type": "stream",
     "text": [
      "100%|██████████| 1368/1368 [28:40<00:00,  1.26s/it]\n",
      "100%|██████████| 457/457 [02:30<00:00,  3.04it/s]\n"
     ]
    }
   ],
   "source": [
    "train_dataset = MMDataset(dataset='chsims',mode='train', image_num=5, generate_num = 4)\n",
    "valid_dataset = MMDataset(dataset='chsims',mode='test', image_num=5, generate_num = 1)"
   ]
  },
  {
   "cell_type": "code",
   "execution_count": 75,
   "metadata": {},
   "outputs": [
    {
     "name": "stderr",
     "output_type": "stream",
     "text": [
      "100%|██████████| 456/456 [02:35<00:00,  2.93it/s]\n"
     ]
    }
   ],
   "source": [
    "valid_dataset = MMDataset(dataset='chsims',mode='valid', image_num=5, generate_num = 1)"
   ]
  },
  {
   "cell_type": "code",
   "execution_count": 9,
   "metadata": {},
   "outputs": [],
   "source": [
    "torch.save(train_dataset, '/scratch/song.xinwe/chsims/train_dataset.pt')\n",
    "torch.save(valid_dataset, '/scratch/song.xinwe/chsims/valid_dataset.pt')"
   ]
  },
  {
   "cell_type": "code",
   "execution_count": 4,
   "metadata": {},
   "outputs": [
    {
     "name": "stderr",
     "output_type": "stream",
     "text": [
      "/tmp/ipykernel_147860/3428264005.py:1: FutureWarning: You are using `torch.load` with `weights_only=False` (the current default value), which uses the default pickle module implicitly. It is possible to construct malicious pickle data which will execute arbitrary code during unpickling (See https://github.com/pytorch/pytorch/blob/main/SECURITY.md#untrusted-models for more details). In a future release, the default value for `weights_only` will be flipped to `True`. This limits the functions that could be executed during unpickling. Arbitrary objects will no longer be allowed to be loaded via this mode unless they are explicitly allowlisted by the user via `torch.serialization.add_safe_globals`. We recommend you start setting `weights_only=True` for any use case where you don't have full control of the loaded file. Please open an issue on GitHub for any issues related to this experimental feature.\n",
      "  train_dataset = torch.load('/scratch/song.xinwe/chsims/train_dataset.pt')\n",
      "/tmp/ipykernel_147860/3428264005.py:2: FutureWarning: You are using `torch.load` with `weights_only=False` (the current default value), which uses the default pickle module implicitly. It is possible to construct malicious pickle data which will execute arbitrary code during unpickling (See https://github.com/pytorch/pytorch/blob/main/SECURITY.md#untrusted-models for more details). In a future release, the default value for `weights_only` will be flipped to `True`. This limits the functions that could be executed during unpickling. Arbitrary objects will no longer be allowed to be loaded via this mode unless they are explicitly allowlisted by the user via `torch.serialization.add_safe_globals`. We recommend you start setting `weights_only=True` for any use case where you don't have full control of the loaded file. Please open an issue on GitHub for any issues related to this experimental feature.\n",
      "  valid_dataset = torch.load('/scratch/song.xinwe/chsims/valid_dataset.pt')\n"
     ]
    }
   ],
   "source": [
    "train_dataset = torch.load('/scratch/song.xinwe/chsims/train_dataset.pt')\n",
    "valid_dataset = torch.load('/scratch/song.xinwe/chsims/valid_dataset.pt')"
   ]
  },
  {
   "cell_type": "code",
   "execution_count": 76,
   "metadata": {},
   "outputs": [],
   "source": [
    "train_loader = DataLoader(train_dataset, batch_size=64, shuffle=True, num_workers=8)\n",
    "val_loader = DataLoader(valid_dataset, batch_size=64, shuffle=False, num_workers=8)"
   ]
  },
  {
   "cell_type": "code",
   "execution_count": 77,
   "metadata": {},
   "outputs": [],
   "source": [
    "device = torch.device(\"cuda\" if torch.cuda.is_available() else \"cpu\")"
   ]
  },
  {
   "cell_type": "code",
   "execution_count": 78,
   "metadata": {},
   "outputs": [],
   "source": [
    "class CrossAttentionTA(nn.Module):\n",
    "    def __init__(self, dim=128, heads=8, mlp_dim=128):\n",
    "        super().__init__()\n",
    "        self.cross_attn = CrossTransformer(source_num_frames=8, tgt_num_frames=8, dim=dim, depth=1, heads=heads, mlp_dim=mlp_dim)\n",
    "\n",
    "    def forward(self, h_t, h_a):\n",
    "        out = self.cross_attn(h_t, h_a)  # [B, 9, D]\n",
    "        return out  # keep [CLS] and body for downstream split\n",
    "\n",
    "class GateController(nn.Module):\n",
    "    def __init__(self, dim=128):\n",
    "        super().__init__()\n",
    "        self.fc = nn.Sequential(\n",
    "            nn.Linear(dim, dim),\n",
    "            nn.ReLU(),\n",
    "            nn.Linear(dim, 1),\n",
    "            #nn.Sigmoid()\n",
    "        )\n",
    "\n",
    "    def forward(self, state):\n",
    "        # GateController.forward 中添加\n",
    "        temperature = 1.\n",
    "        p = torch.sigmoid(self.fc(state) / temperature)  \n",
    "        #p = self.fc(state)\n",
    "        dist = Bernoulli(probs=p)\n",
    "        action = dist.sample()  # [B, 1]\n",
    "        log_prob = dist.log_prob(action)  # [B, 1]\n",
    "        return action, log_prob, p\n",
    "        "
   ]
  },
  {
   "cell_type": "code",
   "execution_count": 79,
   "metadata": {},
   "outputs": [],
   "source": [
    "class EMALMTBlock(nn.Module):\n",
    "    def __init__(self, dim=128, heads=8, mlp_dim=128, dropout=0.):\n",
    "        super(EMALMTBlock, self).__init__()\n",
    "\n",
    "        # 融合模块（ALMT核心）\n",
    "        self.fusion = HhyperLearningEncoder(dim=dim, depth=1, heads=heads, dim_head=16, dropout=dropout)\n",
    "\n",
    "        # 视觉生成模块（E步）\n",
    "        self.visual_predictor = Transformer(\n",
    "            num_frames=16,\n",
    "            save_hidden=False,\n",
    "            token_len=None,  # 直接输出 token_len 长度的序列\n",
    "            dim=dim,\n",
    "            depth=1,\n",
    "            heads=heads,\n",
    "            mlp_dim=mlp_dim,\n",
    "            dropout=dropout\n",
    "        )\n",
    "\n",
    "        # 视觉反馈映射模块（M步）\n",
    "        self.feedback_proj = nn.Sequential(\n",
    "            nn.Linear(dim, dim),\n",
    "            nn.GELU(),\n",
    "            nn.Linear(dim, dim)\n",
    "        )\n",
    "        \n",
    "        self.cross_ta = CrossAttentionTA(dim=dim, heads=heads, mlp_dim=mlp_dim)\n",
    "        self.gate_controller = GateController(dim=2*dim)  # one per layer\n",
    "\n",
    "\n",
    "    def forward(self, h_v_list, h_l, h_a, h_hyper_v, layer_idx):\n",
    "        \"\"\"\n",
    "        输入：\n",
    "        - h_v_list: List of vision encoder layer outputs\n",
    "        - h_l, h_a: 融合输入\n",
    "        - h_hyper_v: 上一层融合结果\n",
    "        - layer_idx: 当前层 index，用于选择要更新的视觉层\n",
    "        输出：\n",
    "        - h_hyper_v: 当前层融合输出\n",
    "        - h_v_list: 修正后的视觉层列表\n",
    "        \"\"\"\n",
    "        # 获取 TA 融合的 [CLS] token 表示\n",
    "\n",
    "\n",
    "        h_ta_full = self.cross_ta(h_l, h_a)  # [B, 9, D] with [CLS] + 8 tokens\n",
    "        gate_input = torch.cat([h_hyper_v[:,0],h_ta_full[:, 0]] ,dim=-1) \n",
    "        h_ta = h_ta_full[:, 1:]  # [B, 8, D] - remaining tokens for gated fusion\n",
    "        gate, log_prob, prob = self.gate_controller(gate_input)  # [B, 1]\n",
    "        gate = gate.unsqueeze(2)  # [B, 1, 1]\n",
    "\n",
    "        # Apply gate to h_ta\n",
    "        h_ta_gated = gate * h_ta\n",
    "\n",
    "        h_hyper_v = self.fusion([h_v_list[layer_idx]], h_l, h_a, h_hyper_v)\n",
    "        \n",
    "        h_hyper_v = h_hyper_v + h_ta_gated\n",
    "\n",
    "        # === E步：基于融合结果预测视觉表示\n",
    "        h_v_feature = self.visual_predictor(h_hyper_v)  # (B, token_len, dim)\n",
    "        \n",
    "        if layer_idx+1<len(h_v_list):\n",
    "            # === M步：将 h_v_feature 映射并反馈更新 h_v_list[layer_idx]\n",
    "            h_v_feedback = self.feedback_proj(h_v_feature)  # (B, token_len, dim)\n",
    "\n",
    "            h_v_list[layer_idx+1] = h_v_list[layer_idx+1] + h_v_feedback\n",
    "            \n",
    "\n",
    "        #return h_hyper_v, h_v_list, h_v_feature, log_prob, gate\n",
    "        return h_hyper_v, h_v_list, h_v_feature, log_prob, gate, prob\n",
    "\n",
    "\n",
    "\n",
    "\n",
    "\n",
    "class VisionFeatureAggregator(nn.Module):\n",
    "    def __init__(self, dim):\n",
    "        super().__init__()\n",
    "        self.transformer = nn.TransformerEncoder(\n",
    "            nn.TransformerEncoderLayer(d_model=dim, nhead=8),\n",
    "            num_layers=1\n",
    "        )\n",
    "\n",
    "    def forward(self, x):  \n",
    "        return self.transformer(x)\n",
    "    \n",
    "    \n",
    "class ResNetWithDropout(nn.Module):\n",
    "    def __init__(self, dropout_rate=0.3):\n",
    "        super().__init__()\n",
    "        resnet18 = models.resnet18(pretrained=True)\n",
    "        self.features = nn.Sequential(*list(resnet18.children())[:-1])  # 去掉最后一层 FC\n",
    "        self.dropout = nn.Dropout(dropout_rate)\n",
    "\n",
    "    def forward(self, x):\n",
    "        x = self.features(x)\n",
    "        x = x.squeeze(-1).squeeze(-1)\n",
    "        x = self.dropout(x)\n",
    "        return x\n",
    "\n",
    "\n",
    "class Model(nn.Module):\n",
    "    def __init__(self, AHL_depth=3, fusion_layer_depth=4, bert_pretrained='bert-base-chinese'):\n",
    "        super(Model, self).__init__()\n",
    "\n",
    "        self.h_hyper = nn.Parameter(torch.ones(1, 8, 128))\n",
    "\n",
    "        # 基础编码器\n",
    "        self.bertmodel = BertTextEncoder(use_finetune=True, transformers='bert', pretrained=bert_pretrained)\n",
    "        self.img_extractor = ResNetWithDropout(dropout_rate=0.1)\n",
    "        self.vf_aggregator = VisionFeatureAggregator(dim=512)\n",
    "\n",
    "        # 投影层\n",
    "        self.proj_l0 = nn.Sequential(nn.Linear(768, 128),nn.Dropout(0.1))\n",
    "        self.proj_a0 = nn.Sequential(nn.Linear(33, 128),nn.Dropout(0.1))\n",
    "        self.proj_v0 = nn.Sequential(nn.Linear(512, 128),nn.Dropout(0.1))\n",
    "\n",
    "        # 序列处理\n",
    "        self.proj_l = Transformer(num_frames=39, save_hidden=False, token_len=8, dim=128, depth=1, heads=8, mlp_dim=128)\n",
    "        self.proj_a = Transformer(num_frames=400, save_hidden=False, token_len=8, dim=128, depth=1, heads=8, mlp_dim=128)\n",
    "        self.proj_v = Transformer(num_frames=5, save_hidden=False, token_len=8, dim=128, depth=1, heads=8, mlp_dim=128)\n",
    "\n",
    "        \n",
    "\n",
    "        # 视觉主干编码器（输出多个中间层）\n",
    "        self.vision_encoder = Transformer(num_frames=8, save_hidden=True, token_len=None, dim=128, depth=AHL_depth-1, heads=8, mlp_dim=128)\n",
    "\n",
    "        # 新增：多层 EMALMTBlock 替代 h_hyper_layer_v\n",
    "        self.em_almt_blocks = nn.ModuleList([\n",
    "            EMALMTBlock(dim=128, heads=8, mlp_dim=128, dropout=0.)\n",
    "            for _ in range(AHL_depth)\n",
    "        ])\n",
    "\n",
    "        # 跨模态融合 & 情感预测\n",
    "        self.fusion_layer = CrossTransformer(source_num_frames=8, tgt_num_frames=8, dim=128, depth=fusion_layer_depth, heads=8, mlp_dim=128)\n",
    "        self.cls_head = nn.Linear(128, 1)\n",
    "        \n",
    "        self.vision_feature_extractor = nn.Sequential(\n",
    "            Transformer(num_frames=8, save_hidden=False, token_len=1, dim=128, depth=1, heads=8, mlp_dim=64, dropout=0.),   \n",
    "            #nn.Dropout(0.3)\n",
    "        )\n",
    "\n",
    "        \n",
    "    def forward(self, x_visual, x_audio, x_text):\n",
    "        \n",
    "        log_probs, gates, probs = [], [], []\n",
    "\n",
    "        b = x_visual.size(0)\n",
    "        h_hyper_v = repeat(self.h_hyper, '1 n d -> b n d', b=b)\n",
    "\n",
    "        # 视觉特征提取\n",
    "        x_visual = self.img_extractor(x_visual.view(-1, 3, 224, 224))\n",
    "        x_visual = x_visual.view(b, 5, 512)\n",
    "        x_visual = self.proj_v0(self.vf_aggregator(x_visual))\n",
    "\n",
    "\n",
    "\n",
    "        x_audio = self.proj_a0(x_audio)\n",
    "        x_text = self.bertmodel(x_text)\n",
    "        x_text = self.proj_l0(x_text)\n",
    "\n",
    "        h_v = self.proj_v(x_visual)[:, :8]\n",
    "        h_a = self.proj_a(x_audio)[:, :8]\n",
    "        h_l = self.proj_l(x_text)[:, :8]\n",
    "        \n",
    "        \n",
    "        \n",
    "        h_v_list = list(self.vision_encoder(h_v))  # 多层视觉表示\n",
    "        \n",
    "\n",
    "        for i, block in enumerate(self.em_almt_blocks):\n",
    "            h_hyper_v, h_v_list, h_v_feature, log_prob, gate, prob = block(h_v_list, h_l, h_a, h_hyper_v, layer_idx=i)\n",
    "            log_probs.append(log_prob)\n",
    "            gates.append(gate)\n",
    "            probs.append(prob)\n",
    "\n",
    "        # 情感预测\n",
    "        feat = self.fusion_layer(h_hyper_v, h_v_list[-1])[:, 0]\n",
    "        output = self.cls_head(feat)\n",
    "\n",
    "        return output, self.vision_feature_extractor(h_v_feature)[:,0], log_probs, gates, probs\n"
   ]
  },
  {
   "cell_type": "code",
   "execution_count": 80,
   "metadata": {},
   "outputs": [
    {
     "name": "stderr",
     "output_type": "stream",
     "text": [
      "/scratch/song.xinwe/MultiModal/lib/python3.8/site-packages/torchvision/models/_utils.py:208: UserWarning: The parameter 'pretrained' is deprecated since 0.13 and may be removed in the future, please use 'weights' instead.\n",
      "  warnings.warn(\n",
      "/scratch/song.xinwe/MultiModal/lib/python3.8/site-packages/torchvision/models/_utils.py:223: UserWarning: Arguments other than a weight enum or `None` for 'weights' are deprecated since 0.13 and may be removed in the future. The current behavior is equivalent to passing `weights=ResNet18_Weights.IMAGENET1K_V1`. You can also use `weights=ResNet18_Weights.DEFAULT` to get the most up-to-date weights.\n",
      "  warnings.warn(msg)\n",
      "/scratch/song.xinwe/MultiModal/lib/python3.8/site-packages/torch/nn/modules/transformer.py:286: UserWarning: enable_nested_tensor is True, but self.use_nested_tensor is False because encoder_layer.self_attn.batch_first was not True(use batch_first for better inference performance)\n",
      "  warnings.warn(f\"enable_nested_tensor is True, but self.use_nested_tensor is False because {why_not_sparsity_fast_path}\")\n"
     ]
    }
   ],
   "source": [
    "model = Model().to(device)\n",
    "\n",
    "emo_loss_fn = torch.nn.MSELoss()\n",
    "\n",
    "def SupervisedContrastiveLoss(h_v_cls, labels, sigma=0.1):\n",
    "    \"\"\"\n",
    "    :param h_v_cls: (B, D) - visual embeddings after projection (final representation)\n",
    "    :param labels: (B,) - continuous sentiment labels\n",
    "    :param sigma: float - Gaussian kernel width (smaller = stricter similarity)\n",
    "    :return: scalar contrastive loss\n",
    "    \"\"\"\n",
    "    batch_size = h_v_cls.shape[0]\n",
    "\n",
    "    # Normalize embeddings\n",
    "    h_v_cls = torch.nn.functional.normalize(h_v_cls, dim=1)  # (B, D)\n",
    "\n",
    "    # Cosine similarity matrix: (B, B)\n",
    "    similarity_matrix = torch.cosine_similarity(h_v_cls.unsqueeze(1), h_v_cls.unsqueeze(0), dim=-1)\n",
    "\n",
    "    # Compute label distance matrix\n",
    "    labels = labels.contiguous().view(-1, 1)  # (B, 1)\n",
    "    label_diff = labels - labels.T  # (B, B)\n",
    "\n",
    "    # Gaussian weight based on label similarity\n",
    "    weight_matrix = torch.exp(- (label_diff ** 2) / (2 * sigma ** 2)).to(h_v_cls.device)  # (B, B)\n",
    "\n",
    "    # Exponential of cosine similarity\n",
    "    exp_sim = torch.exp(similarity_matrix)  # (B, B)\n",
    "\n",
    "    # Avoid self-comparison by masking diagonal to 0\n",
    "    identity_mask = torch.eye(batch_size, device=h_v_cls.device)\n",
    "    weight_matrix = weight_matrix * (1 - identity_mask)\n",
    "    exp_sim = exp_sim * (1 - identity_mask)\n",
    "\n",
    "    # Compute weighted contrastive loss\n",
    "    numerator = torch.sum(exp_sim * weight_matrix, dim=1)  # (B,)\n",
    "    denominator = torch.sum(exp_sim, dim=1) + 1e-8          # (B,)\n",
    "\n",
    "    loss = -torch.log(numerator / denominator + 1e-8)       # (B,)\n",
    "    return loss.mean()\n"
   ]
  },
  {
   "cell_type": "code",
   "execution_count": 40,
   "metadata": {},
   "outputs": [
    {
     "name": "stdout",
     "output_type": "stream",
     "text": [
      "Total parameters: 122,167,556\n",
      "Trainable parameters: 122,167,556\n"
     ]
    }
   ],
   "source": [
    "def count_parameters(model):\n",
    "    total = sum(p.numel() for p in model.parameters())\n",
    "    trainable = sum(p.numel() for p in model.parameters() if p.requires_grad)\n",
    "    print(f\"Total parameters: {total:,}\")\n",
    "    print(f\"Trainable parameters: {trainable:,}\")\n",
    "\n",
    "# 示例用法\n",
    "count_parameters(model)\n"
   ]
  },
  {
   "cell_type": "code",
   "execution_count": 81,
   "metadata": {},
   "outputs": [],
   "source": [
    "def save_validation_metrics(epoch, metrics, save_path=\"metrics_log_chsims.csv\"):\n",
    "    \"\"\"\n",
    "    保存每轮验证的指标到 CSV 文件。\n",
    "    \n",
    "    Args:\n",
    "        epoch (int): 当前 epoch\n",
    "        metrics (dict): 包含各类验证指标的字典\n",
    "        save_path (str): 保存路径\n",
    "    \"\"\"\n",
    "    file_exists = os.path.exists(save_path)\n",
    "    header = [\"epoch\"] + list(metrics.keys())\n",
    "\n",
    "    with open(save_path, \"a\", newline=\"\") as f:\n",
    "        writer = csv.writer(f)\n",
    "        if not file_exists:\n",
    "            writer.writerow(header)\n",
    "        writer.writerow([epoch] + [metrics[k] for k in header[1:]])\n"
   ]
  },
  {
   "cell_type": "code",
   "execution_count": 82,
   "metadata": {},
   "outputs": [],
   "source": [
    "best_val_mae = float(\"inf\")\n",
    "\n",
    "def save_best_model(model, mae, save_path='best_model_chsims.pt'):\n",
    "    global best_val_mae\n",
    "    if mae < best_val_mae:\n",
    "        best_val_mae = mae\n",
    "        torch.save(model.state_dict(), save_path)\n",
    "        print(f\"✅ Saved best model (MAE = {mae:.4f}) to {save_path}\")\n"
   ]
  },
  {
   "cell_type": "code",
   "execution_count": 83,
   "metadata": {},
   "outputs": [],
   "source": [
    "# =========================\n",
    "# 设置训练参数\n",
    "# =========================\n",
    "epochs = 200\n",
    "train_mae, val_mae = [], []\n",
    "\n",
    "optimizer = torch.optim.AdamW(model.parameters(),lr=1e-4, weight_decay=1e-4)\n",
    "scheduler_steplr = torch.optim.lr_scheduler.CosineAnnealingLR(optimizer, T_max=0.9 * epochs)\n",
    "scheduler_warmup = GradualWarmupScheduler(optimizer, multiplier=1, total_epoch=0.05 * epochs, after_scheduler=scheduler_steplr)\n",
    "\n",
    "\n",
    "# =========================\n",
    "# AverageMeter 类用于记录损失\n",
    "# =========================\n",
    "class AverageMeter(object):\n",
    "    def __init__(self):\n",
    "        self.value = 0\n",
    "        self.value_avg = 0\n",
    "        self.value_sum = 0\n",
    "        self.count = 0\n",
    "\n",
    "    def reset(self):\n",
    "        self.value = 0\n",
    "        self.value_avg = 0\n",
    "        self.value_sum = 0\n",
    "        self.count = 0\n",
    "\n",
    "    def update(self, value, count):\n",
    "        self.value = value\n",
    "        self.value_sum += value * count\n",
    "        self.count += count\n",
    "        self.value_avg = self.value_sum / self.count\n",
    "\n",
    "# =========================\n",
    "# Train 函数\n",
    "# =========================\n",
    "def train(model, train_loader, optimizer, epoch):\n",
    "    train_pbar = tqdm(enumerate(train_loader), total=len(train_loader), dynamic_ncols=True)\n",
    "    losses = AverageMeter()\n",
    "    l1s = AverageMeter()\n",
    "    l2s = AverageMeter()\n",
    "    rls = AverageMeter()\n",
    "\n",
    "    y_pred, y_true = [], []\n",
    "\n",
    "    model.train()\n",
    "    moving_baseline = 0.6\n",
    "    alpha = 0.9\n",
    "    \n",
    "    lambda_recon = 0.3\n",
    "    \n",
    "\n",
    "        \n",
    "    lambda_rl = 0.5\n",
    "\n",
    "    for cur_iter, data in train_pbar:\n",
    "        img = data['images'].to(device)\n",
    "        audio = data['audio'].to(device)\n",
    "        text = data['text'].to(device)\n",
    "        label = data['labels'].to(device).view(-1, 1)\n",
    "        batchsize = img.shape[0]\n",
    "\n",
    "        optimizer.zero_grad()\n",
    "\n",
    "        output, h_v_generated, log_probs, gates, probs = model(img, audio, text)\n",
    "\n",
    "        l1 = emo_loss_fn(output, label)\n",
    "        l2 = SupervisedContrastiveLoss(h_v_generated, label)\n",
    "\n",
    "        # === REINFORCE ===\n",
    "        mae_clamped = l1.detach().clamp(0, 2)\n",
    "        reward = 1.0 - mae_clamped / 2.0\n",
    "        advantage = reward - moving_baseline\n",
    "        loss_rl = sum([-(lp.squeeze() * advantage).mean() for lp in log_probs])\n",
    "        moving_baseline = alpha * moving_baseline + (1 - alpha) * reward.item()\n",
    "\n",
    "       \n",
    "\n",
    "        # === 总损失 ===\n",
    "        loss = l1 + lambda_recon * l2 + lambda_rl * loss_rl\n",
    "        loss.backward()\n",
    "        optimizer.step()\n",
    "\n",
    "        losses.update(loss.item(), batchsize)\n",
    "        l1s.update(l1.item(), batchsize)\n",
    "        l2s.update(l2.item(), batchsize)\n",
    "        rls.update(loss_rl.item(), batchsize)\n",
    "\n",
    "        y_pred.append(output.cpu())\n",
    "        y_true.append(label.cpu())\n",
    "\n",
    "        train_pbar.set_description(f'train [Epoch {epoch}]')\n",
    "        train_pbar.set_postfix({\n",
    "            'loss': '{:.5f}'.format(losses.value_avg),\n",
    "            'emo_loss': '{:.4f}'.format(l1s.value_avg),\n",
    "            'visual_loss': '{:.4f}'.format(l2s.value_avg),\n",
    "            'RL_loss': '{:.4f}'.format(rls.value_avg),\n",
    "            'λ_recon': '{:.2f}'.format(lambda_recon),\n",
    "            'λ_RL': '{:.2f}'.format(lambda_rl),\n",
    "            'lr': '{:.2e}'.format(optimizer.param_groups[0]['lr'])\n",
    "        }, refresh=False)\n",
    "\n",
    "    pred, true = torch.cat(y_pred), torch.cat(y_true)\n",
    "    mae = torch.mean(torch.abs(pred - true)).item()\n",
    "    tqdm.write(f\"train MAE: {mae:.4f}\")\n",
    "    train_mae.append(mae)\n",
    "\n",
    "\n",
    "\n",
    "# =========================\n",
    "# Evaluate 函数\n",
    "# =========================\n",
    "def evaluate(model, eval_loader, optimizer, epoch):\n",
    "    metric = MetricsTop()\n",
    "    test_pbar = tqdm(enumerate(eval_loader), total=len(eval_loader))\n",
    "    losses = AverageMeter()\n",
    "    l1s = AverageMeter()\n",
    "    l2s = AverageMeter()\n",
    "\n",
    "    y_pred, y_true = [], []\n",
    "\n",
    "    model.eval()\n",
    "    with torch.no_grad():\n",
    "        for cur_iter, data in test_pbar:\n",
    "            img = data['images'].to(device)\n",
    "            audio = data['audio'].to(device)\n",
    "            text = data['text'].to(device)\n",
    "            label = data['labels'].to(device).view(-1, 1)\n",
    "            batchsize = img.shape[0]\n",
    "\n",
    "            output, h_v_generated, log_probs, gates, probs = model(img, audio, text)           \n",
    "\n",
    "            l1 = emo_loss_fn(output, label)\n",
    "            l2 = SupervisedContrastiveLoss(h_v_generated, label)\n",
    "\n",
    "            \n",
    "            lambda_recon = 0.3\n",
    "            \n",
    "                \n",
    "            loss = l1 + lambda_recon * l2\n",
    "            \n",
    "            y_pred.append(output.cpu())\n",
    "            y_true.append(label.cpu())\n",
    "\n",
    "            losses.update(loss.item(), batchsize)\n",
    "            l1s.update(l1.item(), batchsize)\n",
    "            l2s.update(l2.item(), batchsize)\n",
    "\n",
    "\n",
    "            test_pbar.set_description('eval')\n",
    "            test_pbar.set_postfix({\n",
    "                'loss': '{:.5f}'.format(losses.value_avg),\n",
    "                'emo_loss': '{:.4f}'.format(l1s.value_avg),\n",
    "                'visual_loss': '{:.4f}'.format(l2s.value_avg),\n",
    "                'lambda_recon': '{:.2f}'.format(lambda_recon),\n",
    "                'lr': '{:.2e}'.format(optimizer.param_groups[0]['lr'])\n",
    "            }, refresh=False)\n",
    "\n",
    "        pred, true = torch.cat(y_pred), torch.cat(y_true)\n",
    "        eval_func = metric.getMetics(\"SIMS\")\n",
    "        eval_results = eval_func(pred, true)\n",
    "        \n",
    "        print(f\"Evaluation Results:\")\n",
    "        for key,value in eval_results.items():\n",
    "            print(f\"{key}: {value:.4f}\")\n",
    "        \n",
    "        gate_stats = torch.cat(gates, dim=1)  # [B, num_layers]\n",
    "        gate_ratio = gate_stats.float().mean(dim=0).cpu().numpy()\n",
    "\n",
    "        print('Gate Activation Ratio:', gate_ratio)\n",
    "        \n",
    "        save_validation_metrics(epoch,eval_results)\n",
    "        save_best_model(model, eval_results['MAE'])\n"
   ]
  },
  {
   "cell_type": "code",
   "execution_count": null,
   "metadata": {},
   "outputs": [
    {
     "name": "stderr",
     "output_type": "stream",
     "text": [
      "train [Epoch 1]: 100%|██████████| 86/86 [01:20<00:00,  1.07it/s, loss=1.35668, emo_loss=0.7340, visual_loss=2.0604, RL_loss=0.0091, λ_recon=0.30, λ_RL=0.50, lr=0.00e+00]\n"
     ]
    },
    {
     "name": "stdout",
     "output_type": "stream",
     "text": [
      "train MAE: 0.7392\n"
     ]
    },
    {
     "name": "stderr",
     "output_type": "stream",
     "text": [
      "eval: 100%|██████████| 8/8 [00:09<00:00,  1.23s/it, loss=1.36490, emo_loss=0.7323, visual_loss=2.1087, lambda_recon=0.30, lr=0.00e+00]\n"
     ]
    },
    {
     "name": "stdout",
     "output_type": "stream",
     "text": [
      "Evaluation Results:\n",
      "Mult_acc_2: 0.3048\n",
      "Mult_acc_3: 0.3048\n",
      "Mult_acc_5: 0.1513\n",
      "F1_score: 0.4672\n",
      "MAE: 0.7397\n",
      "Corr: -0.0019\n",
      "Gate Activation Ratio: [[       0.25]\n",
      " [      0.625]\n",
      " [        0.5]]\n",
      "✅ Saved best model (MAE = 0.7397) to best_model_chsims.pt\n"
     ]
    },
    {
     "name": "stderr",
     "output_type": "stream",
     "text": [
      "train [Epoch 2]: 100%|██████████| 86/86 [01:18<00:00,  1.10it/s, loss=1.07665, emo_loss=0.4281, visual_loss=2.0582, RL_loss=0.0621, λ_recon=0.30, λ_RL=0.50, lr=1.00e-05]\n"
     ]
    },
    {
     "name": "stdout",
     "output_type": "stream",
     "text": [
      "train MAE: 0.5500\n"
     ]
    },
    {
     "name": "stderr",
     "output_type": "stream",
     "text": [
      "eval: 100%|██████████| 8/8 [00:09<00:00,  1.18s/it, loss=0.96359, emo_loss=0.3313, visual_loss=2.1076, lambda_recon=0.30, lr=1.00e-05]\n"
     ]
    },
    {
     "name": "stdout",
     "output_type": "stream",
     "text": [
      "Evaluation Results:\n",
      "Mult_acc_2: 0.7390\n",
      "Mult_acc_3: 0.6228\n",
      "Mult_acc_5: 0.2741\n",
      "F1_score: 0.7330\n",
      "MAE: 0.4802\n",
      "Corr: 0.5566\n",
      "Gate Activation Ratio: [[      0.625]\n",
      " [       0.75]\n",
      " [      0.625]]\n",
      "✅ Saved best model (MAE = 0.4802) to best_model_chsims.pt\n"
     ]
    },
    {
     "name": "stderr",
     "output_type": "stream",
     "text": [
      "train [Epoch 3]: 100%|██████████| 86/86 [01:17<00:00,  1.12it/s, loss=0.75355, emo_loss=0.1414, visual_loss=1.8953, RL_loss=0.0871, λ_recon=0.30, λ_RL=0.50, lr=2.00e-05]\n"
     ]
    },
    {
     "name": "stdout",
     "output_type": "stream",
     "text": [
      "train MAE: 0.2898\n"
     ]
    },
    {
     "name": "stderr",
     "output_type": "stream",
     "text": [
      "eval: 100%|██████████| 8/8 [00:10<00:00,  1.27s/it, loss=0.94416, emo_loss=0.3451, visual_loss=1.9970, lambda_recon=0.30, lr=2.00e-05]\n"
     ]
    },
    {
     "name": "stdout",
     "output_type": "stream",
     "text": [
      "Evaluation Results:\n",
      "Mult_acc_2: 0.7303\n",
      "Mult_acc_3: 0.6491\n",
      "Mult_acc_5: 0.4057\n",
      "F1_score: 0.7250\n",
      "MAE: 0.4294\n",
      "Corr: 0.5765\n",
      "Gate Activation Ratio: [[       0.25]\n",
      " [      0.375]\n",
      " [       0.25]]\n",
      "✅ Saved best model (MAE = 0.4294) to best_model_chsims.pt\n"
     ]
    },
    {
     "name": "stderr",
     "output_type": "stream",
     "text": [
      "train [Epoch 4]: 100%|██████████| 86/86 [01:16<00:00,  1.12it/s, loss=0.56492, emo_loss=0.0428, visual_loss=1.5857, RL_loss=0.0928, λ_recon=0.30, λ_RL=0.50, lr=3.00e-05]\n"
     ]
    },
    {
     "name": "stdout",
     "output_type": "stream",
     "text": [
      "train MAE: 0.1497\n"
     ]
    },
    {
     "name": "stderr",
     "output_type": "stream",
     "text": [
      "eval: 100%|██████████| 8/8 [00:11<00:00,  1.39s/it, loss=0.92735, emo_loss=0.3371, visual_loss=1.9674, lambda_recon=0.30, lr=3.00e-05]\n"
     ]
    },
    {
     "name": "stdout",
     "output_type": "stream",
     "text": [
      "Evaluation Results:\n",
      "Mult_acc_2: 0.7390\n",
      "Mult_acc_3: 0.6382\n",
      "Mult_acc_5: 0.3991\n",
      "F1_score: 0.7324\n",
      "MAE: 0.4289\n",
      "Corr: 0.5972\n",
      "Gate Activation Ratio: [[        0.5]\n",
      " [      0.625]\n",
      " [      0.125]]\n",
      "✅ Saved best model (MAE = 0.4289) to best_model_chsims.pt\n"
     ]
    },
    {
     "name": "stderr",
     "output_type": "stream",
     "text": [
      "train [Epoch 5]: 100%|██████████| 86/86 [01:17<00:00,  1.11it/s, loss=0.51054, emo_loss=0.0225, visual_loss=1.4716, RL_loss=0.0932, λ_recon=0.30, λ_RL=0.50, lr=4.00e-05]\n"
     ]
    },
    {
     "name": "stdout",
     "output_type": "stream",
     "text": [
      "train MAE: 0.1103\n"
     ]
    },
    {
     "name": "stderr",
     "output_type": "stream",
     "text": [
      "eval: 100%|██████████| 8/8 [00:09<00:00,  1.18s/it, loss=0.94289, emo_loss=0.3559, visual_loss=1.9566, lambda_recon=0.30, lr=4.00e-05]"
     ]
    },
    {
     "name": "stdout",
     "output_type": "stream",
     "text": [
      "Evaluation Results:\n",
      "Mult_acc_2: 0.6952\n",
      "Mult_acc_3: 0.5987\n",
      "Mult_acc_5: 0.3925\n",
      "F1_score: 0.6841\n",
      "MAE: 0.4376\n",
      "Corr: 0.5756\n",
      "Gate Activation Ratio: [[       0.25]\n",
      " [        0.5]\n",
      " [      0.125]]\n"
     ]
    },
    {
     "name": "stderr",
     "output_type": "stream",
     "text": [
      "\n",
      "train [Epoch 6]: 100%|██████████| 86/86 [01:14<00:00,  1.16it/s, loss=0.48343, emo_loss=0.0167, visual_loss=1.4042, RL_loss=0.0909, λ_recon=0.30, λ_RL=0.50, lr=5.00e-05]"
     ]
    },
    {
     "name": "stdout",
     "output_type": "stream",
     "text": [
      "train MAE: 0.0949\n"
     ]
    },
    {
     "name": "stderr",
     "output_type": "stream",
     "text": [
      "\n",
      "eval: 100%|██████████| 8/8 [00:10<00:00,  1.28s/it, loss=0.92933, emo_loss=0.3399, visual_loss=1.9648, lambda_recon=0.30, lr=5.00e-05]\n"
     ]
    },
    {
     "name": "stdout",
     "output_type": "stream",
     "text": [
      "Evaluation Results:\n",
      "Mult_acc_2: 0.7478\n",
      "Mult_acc_3: 0.6579\n",
      "Mult_acc_5: 0.4035\n",
      "F1_score: 0.7423\n",
      "MAE: 0.4249\n",
      "Corr: 0.5897\n",
      "Gate Activation Ratio: [[      0.375]\n",
      " [      0.625]\n",
      " [      0.125]]\n",
      "✅ Saved best model (MAE = 0.4249) to best_model_chsims.pt\n"
     ]
    },
    {
     "name": "stderr",
     "output_type": "stream",
     "text": [
      "train [Epoch 7]: 100%|██████████| 86/86 [01:17<00:00,  1.11it/s, loss=0.47299, emo_loss=0.0147, visual_loss=1.3823, RL_loss=0.0873, λ_recon=0.30, λ_RL=0.50, lr=6.00e-05]\n"
     ]
    },
    {
     "name": "stdout",
     "output_type": "stream",
     "text": [
      "train MAE: 0.0896\n"
     ]
    },
    {
     "name": "stderr",
     "output_type": "stream",
     "text": [
      "eval: 100%|██████████| 8/8 [00:09<00:00,  1.19s/it, loss=0.92569, emo_loss=0.3319, visual_loss=1.9793, lambda_recon=0.30, lr=6.00e-05]"
     ]
    },
    {
     "name": "stdout",
     "output_type": "stream",
     "text": [
      "Evaluation Results:\n",
      "Mult_acc_2: 0.7741\n",
      "Mult_acc_3: 0.6623\n",
      "Mult_acc_5: 0.4013\n",
      "F1_score: 0.7774\n",
      "MAE: 0.4298\n",
      "Corr: 0.5741\n",
      "Gate Activation Ratio: [[      0.375]\n",
      " [       0.25]\n",
      " [       0.25]]\n"
     ]
    },
    {
     "name": "stderr",
     "output_type": "stream",
     "text": [
      "\n",
      "train [Epoch 8]: 100%|██████████| 86/86 [01:17<00:00,  1.11it/s, loss=0.45536, emo_loss=0.0088, visual_loss=1.3507, RL_loss=0.0828, λ_recon=0.30, λ_RL=0.50, lr=7.00e-05]\n"
     ]
    },
    {
     "name": "stdout",
     "output_type": "stream",
     "text": [
      "train MAE: 0.0699\n"
     ]
    },
    {
     "name": "stderr",
     "output_type": "stream",
     "text": [
      "eval: 100%|██████████| 8/8 [00:09<00:00,  1.24s/it, loss=0.95196, emo_loss=0.3624, visual_loss=1.9651, lambda_recon=0.30, lr=7.00e-05]"
     ]
    },
    {
     "name": "stdout",
     "output_type": "stream",
     "text": [
      "Evaluation Results:\n",
      "Mult_acc_2: 0.7390\n",
      "Mult_acc_3: 0.6491\n",
      "Mult_acc_5: 0.4342\n",
      "F1_score: 0.7364\n",
      "MAE: 0.4261\n",
      "Corr: 0.5685\n",
      "Gate Activation Ratio: [[       0.25]\n",
      " [       0.25]\n",
      " [      0.125]]\n"
     ]
    },
    {
     "name": "stderr",
     "output_type": "stream",
     "text": [
      "\n",
      "train [Epoch 9]: 100%|██████████| 86/86 [01:15<00:00,  1.15it/s, loss=0.47628, emo_loss=0.0243, visual_loss=1.3776, RL_loss=0.0775, λ_recon=0.30, λ_RL=0.50, lr=8.00e-05]\n"
     ]
    },
    {
     "name": "stdout",
     "output_type": "stream",
     "text": [
      "train MAE: 0.0973\n"
     ]
    },
    {
     "name": "stderr",
     "output_type": "stream",
     "text": [
      "eval: 100%|██████████| 8/8 [00:09<00:00,  1.17s/it, loss=1.00204, emo_loss=0.3960, visual_loss=2.0203, lambda_recon=0.30, lr=8.00e-05]"
     ]
    },
    {
     "name": "stdout",
     "output_type": "stream",
     "text": [
      "Evaluation Results:\n",
      "Mult_acc_2: 0.6798\n",
      "Mult_acc_3: 0.5702\n",
      "Mult_acc_5: 0.3026\n",
      "F1_score: 0.6702\n",
      "MAE: 0.4981\n",
      "Corr: 0.4545\n",
      "Gate Activation Ratio: [[      0.375]\n",
      " [      0.625]\n",
      " [       0.25]]\n"
     ]
    },
    {
     "name": "stderr",
     "output_type": "stream",
     "text": [
      "\n",
      "train [Epoch 10]: 100%|██████████| 86/86 [01:17<00:00,  1.12it/s, loss=0.57731, emo_loss=0.0809, visual_loss=1.5277, RL_loss=0.0761, λ_recon=0.30, λ_RL=0.50, lr=9.00e-05]"
     ]
    },
    {
     "name": "stdout",
     "output_type": "stream",
     "text": [
      "train MAE: 0.1971\n"
     ]
    },
    {
     "name": "stderr",
     "output_type": "stream",
     "text": [
      "\n",
      "eval: 100%|██████████| 8/8 [00:10<00:00,  1.30s/it, loss=0.98490, emo_loss=0.3873, visual_loss=1.9918, lambda_recon=0.30, lr=9.00e-05]"
     ]
    },
    {
     "name": "stdout",
     "output_type": "stream",
     "text": [
      "Evaluation Results:\n",
      "Mult_acc_2: 0.7303\n",
      "Mult_acc_3: 0.6228\n",
      "Mult_acc_5: 0.3750\n",
      "F1_score: 0.7295\n",
      "MAE: 0.4696\n",
      "Corr: 0.5148\n",
      "Gate Activation Ratio: [[       0.25]\n",
      " [       0.75]\n",
      " [      0.125]]\n"
     ]
    },
    {
     "name": "stderr",
     "output_type": "stream",
     "text": [
      "\n",
      "train [Epoch 11]: 100%|██████████| 86/86 [01:18<00:00,  1.09it/s, loss=0.49206, emo_loss=0.0328, visual_loss=1.4079, RL_loss=0.0737, λ_recon=0.30, λ_RL=0.50, lr=1.00e-04]\n"
     ]
    },
    {
     "name": "stdout",
     "output_type": "stream",
     "text": [
      "train MAE: 0.1246\n"
     ]
    },
    {
     "name": "stderr",
     "output_type": "stream",
     "text": [
      "eval: 100%|██████████| 8/8 [00:10<00:00,  1.29s/it, loss=1.06949, emo_loss=0.4613, visual_loss=2.0273, lambda_recon=0.30, lr=1.00e-04]"
     ]
    },
    {
     "name": "stdout",
     "output_type": "stream",
     "text": [
      "Evaluation Results:\n",
      "Mult_acc_2: 0.6689\n",
      "Mult_acc_3: 0.5877\n",
      "Mult_acc_5: 0.3750\n",
      "F1_score: 0.6565\n",
      "MAE: 0.4957\n",
      "Corr: 0.4764\n",
      "Gate Activation Ratio: [[       0.25]\n",
      " [      0.375]\n",
      " [      0.375]]\n"
     ]
    },
    {
     "name": "stderr",
     "output_type": "stream",
     "text": [
      "\n",
      "train [Epoch 12]: 100%|██████████| 86/86 [01:15<00:00,  1.14it/s, loss=0.53218, emo_loss=0.0653, visual_loss=1.4547, RL_loss=0.0610, λ_recon=0.30, λ_RL=0.50, lr=1.00e-04]"
     ]
    },
    {
     "name": "stdout",
     "output_type": "stream",
     "text": [
      "train MAE: 0.1627\n"
     ]
    },
    {
     "name": "stderr",
     "output_type": "stream",
     "text": [
      "\n",
      "eval: 100%|██████████| 8/8 [00:10<00:00,  1.29s/it, loss=1.10352, emo_loss=0.4916, visual_loss=2.0397, lambda_recon=0.30, lr=1.00e-04]"
     ]
    },
    {
     "name": "stdout",
     "output_type": "stream",
     "text": [
      "Evaluation Results:\n",
      "Mult_acc_2: 0.6535\n",
      "Mult_acc_3: 0.5811\n",
      "Mult_acc_5: 0.3289\n",
      "F1_score: 0.6398\n",
      "MAE: 0.5277\n",
      "Corr: 0.5083\n",
      "Gate Activation Ratio: [[          0]\n",
      " [      0.375]\n",
      " [        0.5]]\n"
     ]
    },
    {
     "name": "stderr",
     "output_type": "stream",
     "text": [
      "\n",
      "train [Epoch 13]: 100%|██████████| 86/86 [01:14<00:00,  1.15it/s, loss=0.53380, emo_loss=0.0642, visual_loss=1.4517, RL_loss=0.0682, λ_recon=0.30, λ_RL=0.50, lr=1.00e-04]\n"
     ]
    },
    {
     "name": "stdout",
     "output_type": "stream",
     "text": [
      "train MAE: 0.1761\n"
     ]
    },
    {
     "name": "stderr",
     "output_type": "stream",
     "text": [
      "eval: 100%|██████████| 8/8 [00:09<00:00,  1.22s/it, loss=0.97135, emo_loss=0.3639, visual_loss=2.0247, lambda_recon=0.30, lr=1.00e-04]"
     ]
    },
    {
     "name": "stdout",
     "output_type": "stream",
     "text": [
      "Evaluation Results:\n",
      "Mult_acc_2: 0.7412\n",
      "Mult_acc_3: 0.6250\n",
      "Mult_acc_5: 0.3925\n",
      "F1_score: 0.7371\n",
      "MAE: 0.4528\n",
      "Corr: 0.5457\n",
      "Gate Activation Ratio: [[          0]\n",
      " [      0.625]\n",
      " [      0.125]]\n"
     ]
    },
    {
     "name": "stderr",
     "output_type": "stream",
     "text": [
      "\n",
      "train [Epoch 14]: 100%|██████████| 86/86 [01:16<00:00,  1.12it/s, loss=0.45533, emo_loss=0.0175, visual_loss=1.3508, RL_loss=0.0652, λ_recon=0.30, λ_RL=0.50, lr=1.00e-04]\n"
     ]
    },
    {
     "name": "stdout",
     "output_type": "stream",
     "text": [
      "train MAE: 0.0892\n"
     ]
    },
    {
     "name": "stderr",
     "output_type": "stream",
     "text": [
      "eval: 100%|██████████| 8/8 [00:10<00:00,  1.36s/it, loss=0.96727, emo_loss=0.3637, visual_loss=2.0119, lambda_recon=0.30, lr=1.00e-04]"
     ]
    },
    {
     "name": "stdout",
     "output_type": "stream",
     "text": [
      "Evaluation Results:\n",
      "Mult_acc_2: 0.7478\n",
      "Mult_acc_3: 0.6469\n",
      "Mult_acc_5: 0.4123\n",
      "F1_score: 0.7448\n",
      "MAE: 0.4420\n",
      "Corr: 0.5472\n",
      "Gate Activation Ratio: [[          0]\n",
      " [       0.25]\n",
      " [       0.25]]\n"
     ]
    },
    {
     "name": "stderr",
     "output_type": "stream",
     "text": [
      "\n",
      "train [Epoch 15]: 100%|██████████| 86/86 [01:14<00:00,  1.15it/s, loss=0.43128, emo_loss=0.0057, visual_loss=1.3091, RL_loss=0.0657, λ_recon=0.30, λ_RL=0.50, lr=9.99e-05]\n"
     ]
    },
    {
     "name": "stdout",
     "output_type": "stream",
     "text": [
      "train MAE: 0.0536\n"
     ]
    },
    {
     "name": "stderr",
     "output_type": "stream",
     "text": [
      "eval: 100%|██████████| 8/8 [00:11<00:00,  1.45s/it, loss=0.98416, emo_loss=0.3817, visual_loss=2.0081, lambda_recon=0.30, lr=9.99e-05]"
     ]
    },
    {
     "name": "stdout",
     "output_type": "stream",
     "text": [
      "Evaluation Results:\n",
      "Mult_acc_2: 0.7368\n",
      "Mult_acc_3: 0.6272\n",
      "Mult_acc_5: 0.4145\n",
      "F1_score: 0.7297\n",
      "MAE: 0.4450\n",
      "Corr: 0.5533\n",
      "Gate Activation Ratio: [[          0]\n",
      " [      0.625]\n",
      " [       0.25]]\n"
     ]
    },
    {
     "name": "stderr",
     "output_type": "stream",
     "text": [
      "\n",
      "train [Epoch 16]: 100%|██████████| 86/86 [01:17<00:00,  1.10it/s, loss=0.42742, emo_loss=0.0035, visual_loss=1.3074, RL_loss=0.0633, λ_recon=0.30, λ_RL=0.50, lr=9.99e-05]\n"
     ]
    },
    {
     "name": "stdout",
     "output_type": "stream",
     "text": [
      "train MAE: 0.0446\n"
     ]
    },
    {
     "name": "stderr",
     "output_type": "stream",
     "text": [
      "eval: 100%|██████████| 8/8 [00:10<00:00,  1.26s/it, loss=0.97992, emo_loss=0.3734, visual_loss=2.0217, lambda_recon=0.30, lr=9.99e-05]"
     ]
    },
    {
     "name": "stdout",
     "output_type": "stream",
     "text": [
      "Evaluation Results:\n",
      "Mult_acc_2: 0.7434\n",
      "Mult_acc_3: 0.6316\n",
      "Mult_acc_5: 0.3991\n",
      "F1_score: 0.7381\n",
      "MAE: 0.4439\n",
      "Corr: 0.5483\n",
      "Gate Activation Ratio: [[          0]\n",
      " [      0.375]\n",
      " [      0.625]]\n"
     ]
    },
    {
     "name": "stderr",
     "output_type": "stream",
     "text": [
      "\n",
      "train [Epoch 17]: 100%|██████████| 86/86 [01:21<00:00,  1.05it/s, loss=0.42227, emo_loss=0.0027, visual_loss=1.2979, RL_loss=0.0605, λ_recon=0.30, λ_RL=0.50, lr=9.98e-05]\n"
     ]
    },
    {
     "name": "stdout",
     "output_type": "stream",
     "text": [
      "train MAE: 0.0386\n"
     ]
    },
    {
     "name": "stderr",
     "output_type": "stream",
     "text": [
      "eval: 100%|██████████| 8/8 [00:09<00:00,  1.20s/it, loss=0.96629, emo_loss=0.3622, visual_loss=2.0138, lambda_recon=0.30, lr=9.98e-05]"
     ]
    },
    {
     "name": "stdout",
     "output_type": "stream",
     "text": [
      "Evaluation Results:\n",
      "Mult_acc_2: 0.7149\n",
      "Mult_acc_3: 0.6228\n",
      "Mult_acc_5: 0.3991\n",
      "F1_score: 0.7058\n",
      "MAE: 0.4457\n",
      "Corr: 0.5492\n",
      "Gate Activation Ratio: [[          0]\n",
      " [      0.375]\n",
      " [       0.25]]\n"
     ]
    },
    {
     "name": "stderr",
     "output_type": "stream",
     "text": [
      "\n",
      "train [Epoch 18]: 100%|██████████| 86/86 [01:14<00:00,  1.15it/s, loss=0.41755, emo_loss=0.0026, visual_loss=1.3015, RL_loss=0.0490, λ_recon=0.30, λ_RL=0.50, lr=9.97e-05]\n"
     ]
    },
    {
     "name": "stdout",
     "output_type": "stream",
     "text": [
      "train MAE: 0.0385\n"
     ]
    },
    {
     "name": "stderr",
     "output_type": "stream",
     "text": [
      "eval: 100%|██████████| 8/8 [00:10<00:00,  1.36s/it, loss=0.96989, emo_loss=0.3663, visual_loss=2.0119, lambda_recon=0.30, lr=9.97e-05]"
     ]
    },
    {
     "name": "stdout",
     "output_type": "stream",
     "text": [
      "Evaluation Results:\n",
      "Mult_acc_2: 0.7215\n",
      "Mult_acc_3: 0.6250\n",
      "Mult_acc_5: 0.4123\n",
      "F1_score: 0.7135\n",
      "MAE: 0.4451\n",
      "Corr: 0.5519\n",
      "Gate Activation Ratio: [[          0]\n",
      " [      0.375]\n",
      " [       0.25]]\n"
     ]
    },
    {
     "name": "stderr",
     "output_type": "stream",
     "text": [
      "\n",
      "train [Epoch 19]: 100%|██████████| 86/86 [01:21<00:00,  1.05it/s, loss=0.41525, emo_loss=0.0019, visual_loss=1.2941, RL_loss=0.0503, λ_recon=0.30, λ_RL=0.50, lr=9.96e-05]\n"
     ]
    },
    {
     "name": "stdout",
     "output_type": "stream",
     "text": [
      "train MAE: 0.0320\n"
     ]
    },
    {
     "name": "stderr",
     "output_type": "stream",
     "text": [
      "eval: 100%|██████████| 8/8 [00:10<00:00,  1.36s/it, loss=0.97586, emo_loss=0.3711, visual_loss=2.0160, lambda_recon=0.30, lr=9.96e-05]"
     ]
    },
    {
     "name": "stdout",
     "output_type": "stream",
     "text": [
      "Evaluation Results:\n",
      "Mult_acc_2: 0.7259\n",
      "Mult_acc_3: 0.6250\n",
      "Mult_acc_5: 0.4123\n",
      "F1_score: 0.7192\n",
      "MAE: 0.4422\n",
      "Corr: 0.5543\n",
      "Gate Activation Ratio: [[          0]\n",
      " [        0.5]\n",
      " [          0]]\n"
     ]
    },
    {
     "name": "stderr",
     "output_type": "stream",
     "text": [
      "\n",
      "train [Epoch 20]: 100%|██████████| 86/86 [01:18<00:00,  1.09it/s, loss=0.41833, emo_loss=0.0024, visual_loss=1.2929, RL_loss=0.0561, λ_recon=0.30, λ_RL=0.50, lr=9.95e-05]\n"
     ]
    },
    {
     "name": "stdout",
     "output_type": "stream",
     "text": [
      "train MAE: 0.0381\n"
     ]
    },
    {
     "name": "stderr",
     "output_type": "stream",
     "text": [
      "eval: 100%|██████████| 8/8 [00:10<00:00,  1.26s/it, loss=0.98004, emo_loss=0.3780, visual_loss=2.0068, lambda_recon=0.30, lr=9.95e-05]"
     ]
    },
    {
     "name": "stdout",
     "output_type": "stream",
     "text": [
      "Evaluation Results:\n",
      "Mult_acc_2: 0.7610\n",
      "Mult_acc_3: 0.6557\n",
      "Mult_acc_5: 0.4320\n",
      "F1_score: 0.7594\n",
      "MAE: 0.4385\n",
      "Corr: 0.5586\n",
      "Gate Activation Ratio: [[      0.125]\n",
      " [       0.25]\n",
      " [      0.125]]\n"
     ]
    },
    {
     "name": "stderr",
     "output_type": "stream",
     "text": [
      "\n",
      "train [Epoch 21]: 100%|██████████| 86/86 [01:14<00:00,  1.16it/s, loss=0.42098, emo_loss=0.0017, visual_loss=1.2943, RL_loss=0.0619, λ_recon=0.30, λ_RL=0.50, lr=9.94e-05]\n"
     ]
    },
    {
     "name": "stdout",
     "output_type": "stream",
     "text": [
      "train MAE: 0.0314\n"
     ]
    },
    {
     "name": "stderr",
     "output_type": "stream",
     "text": [
      "eval: 100%|██████████| 8/8 [00:10<00:00,  1.30s/it, loss=0.97443, emo_loss=0.3704, visual_loss=2.0134, lambda_recon=0.30, lr=9.94e-05]"
     ]
    },
    {
     "name": "stdout",
     "output_type": "stream",
     "text": [
      "Evaluation Results:\n",
      "Mult_acc_2: 0.7522\n",
      "Mult_acc_3: 0.6316\n",
      "Mult_acc_5: 0.4211\n",
      "F1_score: 0.7489\n",
      "MAE: 0.4393\n",
      "Corr: 0.5517\n",
      "Gate Activation Ratio: [[          0]\n",
      " [      0.125]\n",
      " [       0.25]]\n"
     ]
    },
    {
     "name": "stderr",
     "output_type": "stream",
     "text": [
      "\n",
      "train [Epoch 22]: 100%|██████████| 86/86 [01:19<00:00,  1.09it/s, loss=0.42152, emo_loss=0.0015, visual_loss=1.2892, RL_loss=0.0665, λ_recon=0.30, λ_RL=0.50, lr=9.92e-05]\n"
     ]
    },
    {
     "name": "stdout",
     "output_type": "stream",
     "text": [
      "train MAE: 0.0294\n"
     ]
    },
    {
     "name": "stderr",
     "output_type": "stream",
     "text": [
      "eval: 100%|██████████| 8/8 [00:11<00:00,  1.38s/it, loss=0.97144, emo_loss=0.3682, visual_loss=2.0106, lambda_recon=0.30, lr=9.92e-05]"
     ]
    },
    {
     "name": "stdout",
     "output_type": "stream",
     "text": [
      "Evaluation Results:\n",
      "Mult_acc_2: 0.7566\n",
      "Mult_acc_3: 0.6425\n",
      "Mult_acc_5: 0.4232\n",
      "F1_score: 0.7533\n",
      "MAE: 0.4361\n",
      "Corr: 0.5610\n",
      "Gate Activation Ratio: [[          0]\n",
      " [        0.5]\n",
      " [        0.5]]\n"
     ]
    },
    {
     "name": "stderr",
     "output_type": "stream",
     "text": [
      "\n",
      "train [Epoch 23]: 100%|██████████| 86/86 [01:16<00:00,  1.12it/s, loss=0.41622, emo_loss=0.0013, visual_loss=1.2781, RL_loss=0.0629, λ_recon=0.30, λ_RL=0.50, lr=9.91e-05]"
     ]
    },
    {
     "name": "stdout",
     "output_type": "stream",
     "text": [
      "train MAE: 0.0275\n"
     ]
    },
    {
     "name": "stderr",
     "output_type": "stream",
     "text": [
      "\n",
      "eval: 100%|██████████| 8/8 [00:11<00:00,  1.45s/it, loss=0.97764, emo_loss=0.3727, visual_loss=2.0166, lambda_recon=0.30, lr=9.91e-05]"
     ]
    },
    {
     "name": "stdout",
     "output_type": "stream",
     "text": [
      "Evaluation Results:\n",
      "Mult_acc_2: 0.7368\n",
      "Mult_acc_3: 0.6206\n",
      "Mult_acc_5: 0.4167\n",
      "F1_score: 0.7309\n",
      "MAE: 0.4385\n",
      "Corr: 0.5605\n",
      "Gate Activation Ratio: [[          0]\n",
      " [       0.25]\n",
      " [        0.5]]\n"
     ]
    },
    {
     "name": "stderr",
     "output_type": "stream",
     "text": [
      "\n",
      "train [Epoch 24]: 100%|██████████| 86/86 [01:14<00:00,  1.16it/s, loss=0.41697, emo_loss=0.0014, visual_loss=1.2849, RL_loss=0.0602, λ_recon=0.30, λ_RL=0.50, lr=9.89e-05]\n"
     ]
    },
    {
     "name": "stdout",
     "output_type": "stream",
     "text": [
      "train MAE: 0.0280\n"
     ]
    },
    {
     "name": "stderr",
     "output_type": "stream",
     "text": [
      "eval: 100%|██████████| 8/8 [00:10<00:00,  1.36s/it, loss=0.98292, emo_loss=0.3768, visual_loss=2.0205, lambda_recon=0.30, lr=9.89e-05]"
     ]
    },
    {
     "name": "stdout",
     "output_type": "stream",
     "text": [
      "Evaluation Results:\n",
      "Mult_acc_2: 0.7303\n",
      "Mult_acc_3: 0.6075\n",
      "Mult_acc_5: 0.3991\n",
      "F1_score: 0.7240\n",
      "MAE: 0.4401\n",
      "Corr: 0.5540\n",
      "Gate Activation Ratio: [[          0]\n",
      " [          0]\n",
      " [      0.875]]\n"
     ]
    },
    {
     "name": "stderr",
     "output_type": "stream",
     "text": [
      "\n",
      "train [Epoch 25]: 100%|██████████| 86/86 [01:20<00:00,  1.07it/s, loss=0.41456, emo_loss=0.0014, visual_loss=1.2826, RL_loss=0.0568, λ_recon=0.30, λ_RL=0.50, lr=9.87e-05]\n"
     ]
    },
    {
     "name": "stdout",
     "output_type": "stream",
     "text": [
      "train MAE: 0.0282\n"
     ]
    },
    {
     "name": "stderr",
     "output_type": "stream",
     "text": [
      "eval: 100%|██████████| 8/8 [00:10<00:00,  1.26s/it, loss=0.98201, emo_loss=0.3766, visual_loss=2.0179, lambda_recon=0.30, lr=9.87e-05]"
     ]
    },
    {
     "name": "stdout",
     "output_type": "stream",
     "text": [
      "Evaluation Results:\n",
      "Mult_acc_2: 0.7500\n",
      "Mult_acc_3: 0.6382\n",
      "Mult_acc_5: 0.4167\n",
      "F1_score: 0.7461\n",
      "MAE: 0.4389\n",
      "Corr: 0.5541\n",
      "Gate Activation Ratio: [[      0.125]\n",
      " [       0.25]\n",
      " [      0.625]]\n"
     ]
    },
    {
     "name": "stderr",
     "output_type": "stream",
     "text": [
      "\n",
      "train [Epoch 26]: 100%|██████████| 86/86 [01:19<00:00,  1.08it/s, loss=0.41578, emo_loss=0.0010, visual_loss=1.2833, RL_loss=0.0595, λ_recon=0.30, λ_RL=0.50, lr=9.85e-05]\n"
     ]
    },
    {
     "name": "stdout",
     "output_type": "stream",
     "text": [
      "train MAE: 0.0238\n"
     ]
    },
    {
     "name": "stderr",
     "output_type": "stream",
     "text": [
      "eval: 100%|██████████| 8/8 [00:10<00:00,  1.36s/it, loss=0.97936, emo_loss=0.3730, visual_loss=2.0213, lambda_recon=0.30, lr=9.85e-05]"
     ]
    },
    {
     "name": "stdout",
     "output_type": "stream",
     "text": [
      "Evaluation Results:\n",
      "Mult_acc_2: 0.7325\n",
      "Mult_acc_3: 0.6272\n",
      "Mult_acc_5: 0.4167\n",
      "F1_score: 0.7264\n",
      "MAE: 0.4409\n",
      "Corr: 0.5554\n",
      "Gate Activation Ratio: [[          0]\n",
      " [      0.375]\n",
      " [      0.625]]\n"
     ]
    },
    {
     "name": "stderr",
     "output_type": "stream",
     "text": [
      "\n",
      "train [Epoch 27]: 100%|██████████| 86/86 [01:15<00:00,  1.13it/s, loss=0.41801, emo_loss=0.0009, visual_loss=1.2779, RL_loss=0.0674, λ_recon=0.30, λ_RL=0.50, lr=9.83e-05]\n"
     ]
    },
    {
     "name": "stdout",
     "output_type": "stream",
     "text": [
      "train MAE: 0.0229\n"
     ]
    },
    {
     "name": "stderr",
     "output_type": "stream",
     "text": [
      "eval: 100%|██████████| 8/8 [00:11<00:00,  1.42s/it, loss=0.97101, emo_loss=0.3679, visual_loss=2.0103, lambda_recon=0.30, lr=9.83e-05]"
     ]
    },
    {
     "name": "stdout",
     "output_type": "stream",
     "text": [
      "Evaluation Results:\n",
      "Mult_acc_2: 0.7303\n",
      "Mult_acc_3: 0.6250\n",
      "Mult_acc_5: 0.4123\n",
      "F1_score: 0.7234\n",
      "MAE: 0.4354\n",
      "Corr: 0.5667\n",
      "Gate Activation Ratio: [[      0.125]\n",
      " [      0.125]\n",
      " [      0.625]]\n"
     ]
    },
    {
     "name": "stderr",
     "output_type": "stream",
     "text": [
      "\n",
      "train [Epoch 28]: 100%|██████████| 86/86 [01:13<00:00,  1.16it/s, loss=0.42013, emo_loss=0.0009, visual_loss=1.2771, RL_loss=0.0723, λ_recon=0.30, λ_RL=0.50, lr=9.81e-05]\n"
     ]
    },
    {
     "name": "stdout",
     "output_type": "stream",
     "text": [
      "train MAE: 0.0226\n"
     ]
    },
    {
     "name": "stderr",
     "output_type": "stream",
     "text": [
      "eval: 100%|██████████| 8/8 [00:09<00:00,  1.17s/it, loss=0.98211, emo_loss=0.3782, visual_loss=2.0131, lambda_recon=0.30, lr=9.81e-05]"
     ]
    },
    {
     "name": "stdout",
     "output_type": "stream",
     "text": [
      "Evaluation Results:\n",
      "Mult_acc_2: 0.7478\n",
      "Mult_acc_3: 0.6294\n",
      "Mult_acc_5: 0.4232\n",
      "F1_score: 0.7448\n",
      "MAE: 0.4376\n",
      "Corr: 0.5535\n",
      "Gate Activation Ratio: [[      0.125]\n",
      " [      0.625]\n",
      " [       0.25]]\n"
     ]
    },
    {
     "name": "stderr",
     "output_type": "stream",
     "text": [
      "\n",
      "train [Epoch 29]: 100%|██████████| 86/86 [01:18<00:00,  1.09it/s, loss=0.42342, emo_loss=0.0010, visual_loss=1.2823, RL_loss=0.0755, λ_recon=0.30, λ_RL=0.50, lr=9.78e-05]\n"
     ]
    },
    {
     "name": "stdout",
     "output_type": "stream",
     "text": [
      "train MAE: 0.0239\n"
     ]
    },
    {
     "name": "stderr",
     "output_type": "stream",
     "text": [
      "eval: 100%|██████████| 8/8 [00:09<00:00,  1.20s/it, loss=0.97417, emo_loss=0.3702, visual_loss=2.0131, lambda_recon=0.30, lr=9.78e-05]"
     ]
    },
    {
     "name": "stdout",
     "output_type": "stream",
     "text": [
      "Evaluation Results:\n",
      "Mult_acc_2: 0.7303\n",
      "Mult_acc_3: 0.6206\n",
      "Mult_acc_5: 0.4211\n",
      "F1_score: 0.7237\n",
      "MAE: 0.4403\n",
      "Corr: 0.5585\n",
      "Gate Activation Ratio: [[      0.125]\n",
      " [      0.625]\n",
      " [        0.5]]\n"
     ]
    },
    {
     "name": "stderr",
     "output_type": "stream",
     "text": [
      "\n",
      "train [Epoch 30]: 100%|██████████| 86/86 [01:21<00:00,  1.05it/s, loss=0.42076, emo_loss=0.0010, visual_loss=1.2730, RL_loss=0.0757, λ_recon=0.30, λ_RL=0.50, lr=9.76e-05]\n"
     ]
    },
    {
     "name": "stdout",
     "output_type": "stream",
     "text": [
      "train MAE: 0.0251\n"
     ]
    },
    {
     "name": "stderr",
     "output_type": "stream",
     "text": [
      "eval: 100%|██████████| 8/8 [00:10<00:00,  1.29s/it, loss=0.98235, emo_loss=0.3780, visual_loss=2.0144, lambda_recon=0.30, lr=9.76e-05]"
     ]
    },
    {
     "name": "stdout",
     "output_type": "stream",
     "text": [
      "Evaluation Results:\n",
      "Mult_acc_2: 0.7325\n",
      "Mult_acc_3: 0.6250\n",
      "Mult_acc_5: 0.4123\n",
      "F1_score: 0.7261\n",
      "MAE: 0.4398\n",
      "Corr: 0.5545\n",
      "Gate Activation Ratio: [[          0]\n",
      " [      0.625]\n",
      " [       0.75]]\n"
     ]
    },
    {
     "name": "stderr",
     "output_type": "stream",
     "text": [
      "\n",
      "train [Epoch 31]: 100%|██████████| 86/86 [01:16<00:00,  1.12it/s, loss=0.42053, emo_loss=0.0007, visual_loss=1.2679, RL_loss=0.0788, λ_recon=0.30, λ_RL=0.50, lr=9.73e-05]\n"
     ]
    },
    {
     "name": "stdout",
     "output_type": "stream",
     "text": [
      "train MAE: 0.0209\n"
     ]
    },
    {
     "name": "stderr",
     "output_type": "stream",
     "text": [
      "eval: 100%|██████████| 8/8 [00:10<00:00,  1.31s/it, loss=0.98066, emo_loss=0.3740, visual_loss=2.0220, lambda_recon=0.30, lr=9.73e-05]"
     ]
    },
    {
     "name": "stdout",
     "output_type": "stream",
     "text": [
      "Evaluation Results:\n",
      "Mult_acc_2: 0.7500\n",
      "Mult_acc_3: 0.6382\n",
      "Mult_acc_5: 0.4189\n",
      "F1_score: 0.7457\n",
      "MAE: 0.4403\n",
      "Corr: 0.5514\n",
      "Gate Activation Ratio: [[      0.125]\n",
      " [       0.75]\n",
      " [       0.75]]\n"
     ]
    },
    {
     "name": "stderr",
     "output_type": "stream",
     "text": [
      "\n",
      "train [Epoch 32]: 100%|██████████| 86/86 [01:17<00:00,  1.12it/s, loss=0.42027, emo_loss=0.0009, visual_loss=1.2740, RL_loss=0.0744, λ_recon=0.30, λ_RL=0.50, lr=9.70e-05]\n"
     ]
    },
    {
     "name": "stdout",
     "output_type": "stream",
     "text": [
      "train MAE: 0.0226\n"
     ]
    },
    {
     "name": "stderr",
     "output_type": "stream",
     "text": [
      "eval: 100%|██████████| 8/8 [00:10<00:00,  1.32s/it, loss=0.97510, emo_loss=0.3707, visual_loss=2.0147, lambda_recon=0.30, lr=9.70e-05]"
     ]
    },
    {
     "name": "stdout",
     "output_type": "stream",
     "text": [
      "Evaluation Results:\n",
      "Mult_acc_2: 0.7193\n",
      "Mult_acc_3: 0.6118\n",
      "Mult_acc_5: 0.4035\n",
      "F1_score: 0.7114\n",
      "MAE: 0.4397\n",
      "Corr: 0.5591\n",
      "Gate Activation Ratio: [[      0.375]\n",
      " [        0.5]\n",
      " [       0.75]]\n"
     ]
    },
    {
     "name": "stderr",
     "output_type": "stream",
     "text": [
      "\n",
      "train [Epoch 33]: 100%|██████████| 86/86 [01:15<00:00,  1.13it/s, loss=0.41533, emo_loss=0.0008, visual_loss=1.2785, RL_loss=0.0619, λ_recon=0.30, λ_RL=0.50, lr=9.67e-05]\n"
     ]
    },
    {
     "name": "stdout",
     "output_type": "stream",
     "text": [
      "train MAE: 0.0211\n"
     ]
    },
    {
     "name": "stderr",
     "output_type": "stream",
     "text": [
      "eval: 100%|██████████| 8/8 [00:10<00:00,  1.30s/it, loss=0.98017, emo_loss=0.3704, visual_loss=2.0327, lambda_recon=0.30, lr=9.67e-05]"
     ]
    },
    {
     "name": "stdout",
     "output_type": "stream",
     "text": [
      "Evaluation Results:\n",
      "Mult_acc_2: 0.7149\n",
      "Mult_acc_3: 0.6184\n",
      "Mult_acc_5: 0.3838\n",
      "F1_score: 0.7072\n",
      "MAE: 0.4458\n",
      "Corr: 0.5474\n",
      "Gate Activation Ratio: [[          0]\n",
      " [      0.875]\n",
      " [          1]]\n"
     ]
    },
    {
     "name": "stderr",
     "output_type": "stream",
     "text": [
      "\n",
      "train [Epoch 34]: 100%|██████████| 86/86 [01:13<00:00,  1.18it/s, loss=0.41011, emo_loss=0.0008, visual_loss=1.2751, RL_loss=0.0535, λ_recon=0.30, λ_RL=0.50, lr=9.64e-05]\n"
     ]
    },
    {
     "name": "stdout",
     "output_type": "stream",
     "text": [
      "train MAE: 0.0226\n"
     ]
    },
    {
     "name": "stderr",
     "output_type": "stream",
     "text": [
      "eval: 100%|██████████| 8/8 [00:09<00:00,  1.24s/it, loss=0.97992, emo_loss=0.3749, visual_loss=2.0166, lambda_recon=0.30, lr=9.64e-05]"
     ]
    },
    {
     "name": "stdout",
     "output_type": "stream",
     "text": [
      "Evaluation Results:\n",
      "Mult_acc_2: 0.7434\n",
      "Mult_acc_3: 0.6338\n",
      "Mult_acc_5: 0.4145\n",
      "F1_score: 0.7388\n",
      "MAE: 0.4429\n",
      "Corr: 0.5485\n",
      "Gate Activation Ratio: [[          0]\n",
      " [          1]\n",
      " [      0.875]]\n"
     ]
    },
    {
     "name": "stderr",
     "output_type": "stream",
     "text": [
      "\n",
      "train [Epoch 35]: 100%|██████████| 86/86 [01:16<00:00,  1.12it/s, loss=0.41081, emo_loss=0.0010, visual_loss=1.2805, RL_loss=0.0513, λ_recon=0.30, λ_RL=0.50, lr=9.60e-05]\n"
     ]
    },
    {
     "name": "stdout",
     "output_type": "stream",
     "text": [
      "train MAE: 0.0246\n"
     ]
    },
    {
     "name": "stderr",
     "output_type": "stream",
     "text": [
      "eval: 100%|██████████| 8/8 [00:09<00:00,  1.17s/it, loss=0.99508, emo_loss=0.3889, visual_loss=2.0205, lambda_recon=0.30, lr=9.60e-05]"
     ]
    },
    {
     "name": "stdout",
     "output_type": "stream",
     "text": [
      "Evaluation Results:\n",
      "Mult_acc_2: 0.7215\n",
      "Mult_acc_3: 0.6206\n",
      "Mult_acc_5: 0.4189\n",
      "F1_score: 0.7138\n",
      "MAE: 0.4453\n",
      "Corr: 0.5459\n",
      "Gate Activation Ratio: [[      0.125]\n",
      " [      0.875]\n",
      " [      0.875]]\n"
     ]
    },
    {
     "name": "stderr",
     "output_type": "stream",
     "text": [
      "\n",
      "train [Epoch 36]: 100%|██████████| 86/86 [01:22<00:00,  1.05it/s, loss=0.40669, emo_loss=0.0007, visual_loss=1.2757, RL_loss=0.0466, λ_recon=0.30, λ_RL=0.50, lr=9.57e-05]\n"
     ]
    },
    {
     "name": "stdout",
     "output_type": "stream",
     "text": [
      "train MAE: 0.0204\n"
     ]
    },
    {
     "name": "stderr",
     "output_type": "stream",
     "text": [
      "eval: 100%|██████████| 8/8 [00:10<00:00,  1.26s/it, loss=0.99082, emo_loss=0.3837, visual_loss=2.0238, lambda_recon=0.30, lr=9.57e-05]"
     ]
    },
    {
     "name": "stdout",
     "output_type": "stream",
     "text": [
      "Evaluation Results:\n",
      "Mult_acc_2: 0.7346\n",
      "Mult_acc_3: 0.6294\n",
      "Mult_acc_5: 0.4189\n",
      "F1_score: 0.7288\n",
      "MAE: 0.4415\n",
      "Corr: 0.5504\n",
      "Gate Activation Ratio: [[          0]\n",
      " [          1]\n",
      " [       0.75]]\n"
     ]
    },
    {
     "name": "stderr",
     "output_type": "stream",
     "text": [
      "\n",
      "train [Epoch 37]: 100%|██████████| 86/86 [01:15<00:00,  1.15it/s, loss=0.40568, emo_loss=0.0006, visual_loss=1.2694, RL_loss=0.0485, λ_recon=0.30, λ_RL=0.50, lr=9.53e-05]"
     ]
    },
    {
     "name": "stdout",
     "output_type": "stream",
     "text": [
      "train MAE: 0.0188\n"
     ]
    },
    {
     "name": "stderr",
     "output_type": "stream",
     "text": [
      "\n",
      "eval: 100%|██████████| 8/8 [00:10<00:00,  1.32s/it, loss=0.99942, emo_loss=0.3939, visual_loss=2.0183, lambda_recon=0.30, lr=9.53e-05]"
     ]
    },
    {
     "name": "stdout",
     "output_type": "stream",
     "text": [
      "Evaluation Results:\n",
      "Mult_acc_2: 0.7215\n",
      "Mult_acc_3: 0.6228\n",
      "Mult_acc_5: 0.4101\n",
      "F1_score: 0.7147\n",
      "MAE: 0.4399\n",
      "Corr: 0.5492\n",
      "Gate Activation Ratio: [[      0.125]\n",
      " [          1]\n",
      " [       0.75]]\n"
     ]
    },
    {
     "name": "stderr",
     "output_type": "stream",
     "text": [
      "\n",
      "train [Epoch 38]: 100%|██████████| 86/86 [01:16<00:00,  1.13it/s, loss=0.40708, emo_loss=0.0006, visual_loss=1.2781, RL_loss=0.0461, λ_recon=0.30, λ_RL=0.50, lr=9.49e-05]"
     ]
    },
    {
     "name": "stdout",
     "output_type": "stream",
     "text": [
      "train MAE: 0.0196\n"
     ]
    },
    {
     "name": "stderr",
     "output_type": "stream",
     "text": [
      "\n",
      "eval: 100%|██████████| 8/8 [00:10<00:00,  1.26s/it, loss=0.98504, emo_loss=0.3760, visual_loss=2.0301, lambda_recon=0.30, lr=9.49e-05]"
     ]
    },
    {
     "name": "stdout",
     "output_type": "stream",
     "text": [
      "Evaluation Results:\n",
      "Mult_acc_2: 0.7434\n",
      "Mult_acc_3: 0.6316\n",
      "Mult_acc_5: 0.4145\n",
      "F1_score: 0.7381\n",
      "MAE: 0.4453\n",
      "Corr: 0.5408\n",
      "Gate Activation Ratio: [[          0]\n",
      " [          1]\n",
      " [      0.625]]\n"
     ]
    },
    {
     "name": "stderr",
     "output_type": "stream",
     "text": [
      "\n",
      "train [Epoch 39]: 100%|██████████| 86/86 [01:16<00:00,  1.13it/s, loss=0.40895, emo_loss=0.0010, visual_loss=1.2741, RL_loss=0.0516, λ_recon=0.30, λ_RL=0.50, lr=9.46e-05]\n"
     ]
    },
    {
     "name": "stdout",
     "output_type": "stream",
     "text": [
      "train MAE: 0.0229\n"
     ]
    },
    {
     "name": "stderr",
     "output_type": "stream",
     "text": [
      "eval: 100%|██████████| 8/8 [00:10<00:00,  1.29s/it, loss=0.98095, emo_loss=0.3755, visual_loss=2.0182, lambda_recon=0.30, lr=9.46e-05]"
     ]
    },
    {
     "name": "stdout",
     "output_type": "stream",
     "text": [
      "Evaluation Results:\n",
      "Mult_acc_2: 0.7632\n",
      "Mult_acc_3: 0.6250\n",
      "Mult_acc_5: 0.4211\n",
      "F1_score: 0.7609\n",
      "MAE: 0.4325\n",
      "Corr: 0.5518\n",
      "Gate Activation Ratio: [[       0.25]\n",
      " [      0.875]\n",
      " [      0.125]]\n"
     ]
    },
    {
     "name": "stderr",
     "output_type": "stream",
     "text": [
      "\n",
      "train [Epoch 40]: 100%|██████████| 86/86 [01:16<00:00,  1.12it/s, loss=0.40768, emo_loss=0.0008, visual_loss=1.2758, RL_loss=0.0482, λ_recon=0.30, λ_RL=0.50, lr=9.41e-05]"
     ]
    },
    {
     "name": "stdout",
     "output_type": "stream",
     "text": [
      "train MAE: 0.0214\n"
     ]
    },
    {
     "name": "stderr",
     "output_type": "stream",
     "text": [
      "\n",
      "eval: 100%|██████████| 8/8 [00:09<00:00,  1.23s/it, loss=0.98842, emo_loss=0.3856, visual_loss=2.0094, lambda_recon=0.30, lr=9.41e-05]"
     ]
    },
    {
     "name": "stdout",
     "output_type": "stream",
     "text": [
      "Evaluation Results:\n",
      "Mult_acc_2: 0.7434\n",
      "Mult_acc_3: 0.6294\n",
      "Mult_acc_5: 0.3991\n",
      "F1_score: 0.7378\n",
      "MAE: 0.4375\n",
      "Corr: 0.5538\n",
      "Gate Activation Ratio: [[      0.125]\n",
      " [          1]\n",
      " [       0.25]]\n"
     ]
    },
    {
     "name": "stderr",
     "output_type": "stream",
     "text": [
      "\n",
      "train [Epoch 41]: 100%|██████████| 86/86 [01:20<00:00,  1.06it/s, loss=0.41662, emo_loss=0.0026, visual_loss=1.2892, RL_loss=0.0546, λ_recon=0.30, λ_RL=0.50, lr=9.37e-05]\n"
     ]
    },
    {
     "name": "stdout",
     "output_type": "stream",
     "text": [
      "train MAE: 0.0299\n"
     ]
    },
    {
     "name": "stderr",
     "output_type": "stream",
     "text": [
      "eval: 100%|██████████| 8/8 [00:10<00:00,  1.29s/it, loss=0.95317, emo_loss=0.3478, visual_loss=2.0179, lambda_recon=0.30, lr=9.37e-05]"
     ]
    },
    {
     "name": "stdout",
     "output_type": "stream",
     "text": [
      "Evaluation Results:\n",
      "Mult_acc_2: 0.7610\n",
      "Mult_acc_3: 0.6250\n",
      "Mult_acc_5: 0.3553\n",
      "F1_score: 0.7612\n",
      "MAE: 0.4511\n",
      "Corr: 0.5494\n",
      "Gate Activation Ratio: [[          0]\n",
      " [          1]\n",
      " [          0]]\n"
     ]
    },
    {
     "name": "stderr",
     "output_type": "stream",
     "text": [
      "\n",
      "train [Epoch 42]: 100%|██████████| 86/86 [01:19<00:00,  1.08it/s, loss=0.50675, emo_loss=0.0491, visual_loss=1.4380, RL_loss=0.0526, λ_recon=0.30, λ_RL=0.50, lr=9.33e-05]\n"
     ]
    },
    {
     "name": "stdout",
     "output_type": "stream",
     "text": [
      "train MAE: 0.1440\n"
     ]
    },
    {
     "name": "stderr",
     "output_type": "stream",
     "text": [
      "eval: 100%|██████████| 8/8 [00:10<00:00,  1.37s/it, loss=1.08421, emo_loss=0.4662, visual_loss=2.0601, lambda_recon=0.30, lr=9.33e-05]"
     ]
    },
    {
     "name": "stdout",
     "output_type": "stream",
     "text": [
      "Evaluation Results:\n",
      "Mult_acc_2: 0.6447\n",
      "Mult_acc_3: 0.5789\n",
      "Mult_acc_5: 0.3158\n",
      "F1_score: 0.6307\n",
      "MAE: 0.5415\n",
      "Corr: 0.4516\n",
      "Gate Activation Ratio: [[      0.125]\n",
      " [          1]\n",
      " [       0.25]]\n"
     ]
    },
    {
     "name": "stderr",
     "output_type": "stream",
     "text": [
      "\n",
      "train [Epoch 43]: 100%|██████████| 86/86 [01:18<00:00,  1.10it/s, loss=0.55993, emo_loss=0.0763, visual_loss=1.5033, RL_loss=0.0653, λ_recon=0.30, λ_RL=0.50, lr=9.29e-05]\n"
     ]
    },
    {
     "name": "stdout",
     "output_type": "stream",
     "text": [
      "train MAE: 0.2005\n"
     ]
    },
    {
     "name": "stderr",
     "output_type": "stream",
     "text": [
      "eval: 100%|██████████| 8/8 [00:10<00:00,  1.35s/it, loss=1.10850, emo_loss=0.4878, visual_loss=2.0689, lambda_recon=0.30, lr=9.29e-05]"
     ]
    },
    {
     "name": "stdout",
     "output_type": "stream",
     "text": [
      "Evaluation Results:\n",
      "Mult_acc_2: 0.7039\n",
      "Mult_acc_3: 0.5987\n",
      "Mult_acc_5: 0.3531\n",
      "F1_score: 0.7049\n",
      "MAE: 0.5235\n",
      "Corr: 0.4124\n",
      "Gate Activation Ratio: [[      0.125]\n",
      " [      0.625]\n",
      " [      0.375]]\n"
     ]
    },
    {
     "name": "stderr",
     "output_type": "stream",
     "text": [
      "\n",
      "train [Epoch 44]: 100%|██████████| 86/86 [01:18<00:00,  1.09it/s, loss=0.50640, emo_loss=0.0381, visual_loss=1.4309, RL_loss=0.0781, λ_recon=0.30, λ_RL=0.50, lr=9.24e-05]\n"
     ]
    },
    {
     "name": "stdout",
     "output_type": "stream",
     "text": [
      "train MAE: 0.1414\n"
     ]
    },
    {
     "name": "stderr",
     "output_type": "stream",
     "text": [
      "eval: 100%|██████████| 8/8 [00:11<00:00,  1.44s/it, loss=1.06178, emo_loss=0.4552, visual_loss=2.0220, lambda_recon=0.30, lr=9.24e-05]"
     ]
    },
    {
     "name": "stdout",
     "output_type": "stream",
     "text": [
      "Evaluation Results:\n",
      "Mult_acc_2: 0.7105\n",
      "Mult_acc_3: 0.6009\n",
      "Mult_acc_5: 0.3706\n",
      "F1_score: 0.7060\n",
      "MAE: 0.4969\n",
      "Corr: 0.4620\n",
      "Gate Activation Ratio: [[      0.375]\n",
      " [      0.375]\n",
      " [      0.375]]\n"
     ]
    },
    {
     "name": "stderr",
     "output_type": "stream",
     "text": [
      "\n",
      "train [Epoch 45]: 100%|██████████| 86/86 [01:17<00:00,  1.11it/s, loss=0.46115, emo_loss=0.0148, visual_loss=1.3472, RL_loss=0.0844, λ_recon=0.30, λ_RL=0.50, lr=9.19e-05]\n"
     ]
    },
    {
     "name": "stdout",
     "output_type": "stream",
     "text": [
      "train MAE: 0.0796\n"
     ]
    },
    {
     "name": "stderr",
     "output_type": "stream",
     "text": [
      "eval: 100%|██████████| 8/8 [00:09<00:00,  1.23s/it, loss=1.06040, emo_loss=0.4457, visual_loss=2.0490, lambda_recon=0.30, lr=9.19e-05]"
     ]
    },
    {
     "name": "stdout",
     "output_type": "stream",
     "text": [
      "Evaluation Results:\n",
      "Mult_acc_2: 0.7018\n",
      "Mult_acc_3: 0.5877\n",
      "Mult_acc_5: 0.3640\n",
      "F1_score: 0.6975\n",
      "MAE: 0.4950\n",
      "Corr: 0.4527\n",
      "Gate Activation Ratio: [[      0.625]\n",
      " [      0.375]\n",
      " [       0.25]]\n"
     ]
    },
    {
     "name": "stderr",
     "output_type": "stream",
     "text": [
      "\n",
      "train [Epoch 46]: 100%|██████████| 86/86 [01:15<00:00,  1.14it/s, loss=0.47062, emo_loss=0.0197, visual_loss=1.3595, RL_loss=0.0861, λ_recon=0.30, λ_RL=0.50, lr=9.15e-05]\n"
     ]
    },
    {
     "name": "stdout",
     "output_type": "stream",
     "text": [
      "train MAE: 0.0936\n"
     ]
    },
    {
     "name": "stderr",
     "output_type": "stream",
     "text": [
      "eval: 100%|██████████| 8/8 [00:09<00:00,  1.23s/it, loss=1.04805, emo_loss=0.4327, visual_loss=2.0513, lambda_recon=0.30, lr=9.15e-05]"
     ]
    },
    {
     "name": "stdout",
     "output_type": "stream",
     "text": [
      "Evaluation Results:\n",
      "Mult_acc_2: 0.6974\n",
      "Mult_acc_3: 0.5658\n",
      "Mult_acc_5: 0.3311\n",
      "F1_score: 0.6909\n",
      "MAE: 0.4969\n",
      "Corr: 0.4611\n",
      "Gate Activation Ratio: [[        0.5]\n",
      " [          1]\n",
      " [      0.375]]\n"
     ]
    },
    {
     "name": "stderr",
     "output_type": "stream",
     "text": [
      "\n",
      "train [Epoch 47]: 100%|██████████| 86/86 [01:20<00:00,  1.07it/s, loss=0.44237, emo_loss=0.0073, visual_loss=1.3093, RL_loss=0.0845, λ_recon=0.30, λ_RL=0.50, lr=9.10e-05]\n"
     ]
    },
    {
     "name": "stdout",
     "output_type": "stream",
     "text": [
      "train MAE: 0.0563\n"
     ]
    },
    {
     "name": "stderr",
     "output_type": "stream",
     "text": [
      "eval: 100%|██████████| 8/8 [00:10<00:00,  1.26s/it, loss=1.05257, emo_loss=0.4364, visual_loss=2.0538, lambda_recon=0.30, lr=9.10e-05]"
     ]
    },
    {
     "name": "stdout",
     "output_type": "stream",
     "text": [
      "Evaluation Results:\n",
      "Mult_acc_2: 0.7149\n",
      "Mult_acc_3: 0.5746\n",
      "Mult_acc_5: 0.3333\n",
      "F1_score: 0.7088\n",
      "MAE: 0.4941\n",
      "Corr: 0.4575\n",
      "Gate Activation Ratio: [[      0.375]\n",
      " [      0.875]\n",
      " [       0.75]]\n"
     ]
    },
    {
     "name": "stderr",
     "output_type": "stream",
     "text": [
      "\n",
      "train [Epoch 48]: 100%|██████████| 86/86 [01:19<00:00,  1.08it/s, loss=0.43338, emo_loss=0.0054, visual_loss=1.2903, RL_loss=0.0818, λ_recon=0.30, λ_RL=0.50, lr=9.05e-05]\n"
     ]
    },
    {
     "name": "stdout",
     "output_type": "stream",
     "text": [
      "train MAE: 0.0452\n"
     ]
    },
    {
     "name": "stderr",
     "output_type": "stream",
     "text": [
      "eval: 100%|██████████| 8/8 [00:10<00:00,  1.32s/it, loss=1.03779, emo_loss=0.4206, visual_loss=2.0574, lambda_recon=0.30, lr=9.05e-05]"
     ]
    },
    {
     "name": "stdout",
     "output_type": "stream",
     "text": [
      "Evaluation Results:\n",
      "Mult_acc_2: 0.7237\n",
      "Mult_acc_3: 0.5965\n",
      "Mult_acc_5: 0.3531\n",
      "F1_score: 0.7211\n",
      "MAE: 0.4815\n",
      "Corr: 0.4830\n",
      "Gate Activation Ratio: [[       0.75]\n",
      " [      0.875]\n",
      " [      0.375]]\n"
     ]
    },
    {
     "name": "stderr",
     "output_type": "stream",
     "text": [
      "\n",
      "train [Epoch 49]: 100%|██████████| 86/86 [01:12<00:00,  1.18it/s, loss=0.42997, emo_loss=0.0026, visual_loss=1.2960, RL_loss=0.0772, λ_recon=0.30, λ_RL=0.50, lr=8.99e-05]\n"
     ]
    },
    {
     "name": "stdout",
     "output_type": "stream",
     "text": [
      "train MAE: 0.0381\n"
     ]
    },
    {
     "name": "stderr",
     "output_type": "stream",
     "text": [
      "eval: 100%|██████████| 8/8 [00:11<00:00,  1.50s/it, loss=1.05223, emo_loss=0.4342, visual_loss=2.0601, lambda_recon=0.30, lr=8.99e-05]"
     ]
    },
    {
     "name": "stdout",
     "output_type": "stream",
     "text": [
      "Evaluation Results:\n",
      "Mult_acc_2: 0.7083\n",
      "Mult_acc_3: 0.5833\n",
      "Mult_acc_5: 0.3487\n",
      "F1_score: 0.7027\n",
      "MAE: 0.4918\n",
      "Corr: 0.4701\n",
      "Gate Activation Ratio: [[          1]\n",
      " [      0.875]\n",
      " [          1]]\n"
     ]
    },
    {
     "name": "stderr",
     "output_type": "stream",
     "text": [
      "\n",
      "train [Epoch 50]: 100%|██████████| 86/86 [01:17<00:00,  1.11it/s, loss=0.42159, emo_loss=0.0025, visual_loss=1.2893, RL_loss=0.0646, λ_recon=0.30, λ_RL=0.50, lr=8.94e-05]\n"
     ]
    },
    {
     "name": "stdout",
     "output_type": "stream",
     "text": [
      "train MAE: 0.0367\n"
     ]
    },
    {
     "name": "stderr",
     "output_type": "stream",
     "text": [
      "eval: 100%|██████████| 8/8 [00:12<00:00,  1.59s/it, loss=1.06444, emo_loss=0.4455, visual_loss=2.0632, lambda_recon=0.30, lr=8.94e-05]"
     ]
    },
    {
     "name": "stdout",
     "output_type": "stream",
     "text": [
      "Evaluation Results:\n",
      "Mult_acc_2: 0.7083\n",
      "Mult_acc_3: 0.5680\n",
      "Mult_acc_5: 0.3443\n",
      "F1_score: 0.7049\n",
      "MAE: 0.4951\n",
      "Corr: 0.4495\n",
      "Gate Activation Ratio: [[      0.875]\n",
      " [      0.125]\n",
      " [          1]]\n"
     ]
    },
    {
     "name": "stderr",
     "output_type": "stream",
     "text": [
      "\n",
      "train [Epoch 51]: 100%|██████████| 86/86 [01:22<00:00,  1.05it/s, loss=0.42033, emo_loss=0.0032, visual_loss=1.2875, RL_loss=0.0618, λ_recon=0.30, λ_RL=0.50, lr=8.89e-05]\n"
     ]
    },
    {
     "name": "stdout",
     "output_type": "stream",
     "text": [
      "train MAE: 0.0377\n"
     ]
    },
    {
     "name": "stderr",
     "output_type": "stream",
     "text": [
      "eval: 100%|██████████| 8/8 [00:12<00:00,  1.54s/it, loss=1.09306, emo_loss=0.4742, visual_loss=2.0628, lambda_recon=0.30, lr=8.89e-05]"
     ]
    },
    {
     "name": "stdout",
     "output_type": "stream",
     "text": [
      "Evaluation Results:\n",
      "Mult_acc_2: 0.6645\n",
      "Mult_acc_3: 0.5614\n",
      "Mult_acc_5: 0.3355\n",
      "F1_score: 0.6531\n",
      "MAE: 0.5146\n",
      "Corr: 0.4279\n",
      "Gate Activation Ratio: [[      0.875]\n",
      " [        0.5]\n",
      " [      0.875]]\n"
     ]
    },
    {
     "name": "stderr",
     "output_type": "stream",
     "text": [
      "\n",
      "train [Epoch 52]: 100%|██████████| 86/86 [01:20<00:00,  1.07it/s, loss=0.42976, emo_loss=0.0075, visual_loss=1.2953, RL_loss=0.0673, λ_recon=0.30, λ_RL=0.50, lr=8.83e-05]\n"
     ]
    },
    {
     "name": "stdout",
     "output_type": "stream",
     "text": [
      "train MAE: 0.0493\n"
     ]
    },
    {
     "name": "stderr",
     "output_type": "stream",
     "text": [
      "eval: 100%|██████████| 8/8 [00:09<00:00,  1.20s/it, loss=1.05692, emo_loss=0.4397, visual_loss=2.0576, lambda_recon=0.30, lr=8.83e-05]"
     ]
    },
    {
     "name": "stdout",
     "output_type": "stream",
     "text": [
      "Evaluation Results:\n",
      "Mult_acc_2: 0.7127\n",
      "Mult_acc_3: 0.5943\n",
      "Mult_acc_5: 0.3838\n",
      "F1_score: 0.7113\n",
      "MAE: 0.4814\n",
      "Corr: 0.4697\n",
      "Gate Activation Ratio: [[      0.625]\n",
      " [       0.75]\n",
      " [          1]]\n"
     ]
    },
    {
     "name": "stderr",
     "output_type": "stream",
     "text": [
      "\n",
      "train [Epoch 53]: 100%|██████████| 86/86 [01:17<00:00,  1.11it/s, loss=0.42339, emo_loss=0.0035, visual_loss=1.2909, RL_loss=0.0652, λ_recon=0.30, λ_RL=0.50, lr=8.77e-05]\n"
     ]
    },
    {
     "name": "stdout",
     "output_type": "stream",
     "text": [
      "train MAE: 0.0360\n"
     ]
    },
    {
     "name": "stderr",
     "output_type": "stream",
     "text": [
      "eval: 100%|██████████| 8/8 [00:10<00:00,  1.31s/it, loss=1.06736, emo_loss=0.4438, visual_loss=2.0785, lambda_recon=0.30, lr=8.77e-05]"
     ]
    },
    {
     "name": "stdout",
     "output_type": "stream",
     "text": [
      "Evaluation Results:\n",
      "Mult_acc_2: 0.7193\n",
      "Mult_acc_3: 0.5680\n",
      "Mult_acc_5: 0.3289\n",
      "F1_score: 0.7153\n",
      "MAE: 0.5047\n",
      "Corr: 0.4351\n",
      "Gate Activation Ratio: [[      0.875]\n",
      " [        0.5]\n",
      " [          1]]\n"
     ]
    },
    {
     "name": "stderr",
     "output_type": "stream",
     "text": [
      "\n",
      "train [Epoch 54]: 100%|██████████| 86/86 [01:18<00:00,  1.10it/s, loss=0.42174, emo_loss=0.0036, visual_loss=1.2926, RL_loss=0.0607, λ_recon=0.30, λ_RL=0.50, lr=8.72e-05]\n"
     ]
    },
    {
     "name": "stdout",
     "output_type": "stream",
     "text": [
      "train MAE: 0.0387\n"
     ]
    },
    {
     "name": "stderr",
     "output_type": "stream",
     "text": [
      "eval: 100%|██████████| 8/8 [00:11<00:00,  1.46s/it, loss=1.08442, emo_loss=0.4655, visual_loss=2.0631, lambda_recon=0.30, lr=8.72e-05]"
     ]
    },
    {
     "name": "stdout",
     "output_type": "stream",
     "text": [
      "Evaluation Results:\n",
      "Mult_acc_2: 0.7039\n",
      "Mult_acc_3: 0.5877\n",
      "Mult_acc_5: 0.3684\n",
      "F1_score: 0.6964\n",
      "MAE: 0.5030\n",
      "Corr: 0.4545\n",
      "Gate Activation Ratio: [[          1]\n",
      " [       0.25]\n",
      " [      0.875]]\n"
     ]
    },
    {
     "name": "stderr",
     "output_type": "stream",
     "text": [
      "\n",
      "train [Epoch 55]: 100%|██████████| 86/86 [01:18<00:00,  1.10it/s, loss=0.41670, emo_loss=0.0021, visual_loss=1.2794, RL_loss=0.0617, λ_recon=0.30, λ_RL=0.50, lr=8.66e-05]\n"
     ]
    },
    {
     "name": "stdout",
     "output_type": "stream",
     "text": [
      "train MAE: 0.0302\n"
     ]
    },
    {
     "name": "stderr",
     "output_type": "stream",
     "text": [
      "eval: 100%|██████████| 8/8 [00:11<00:00,  1.42s/it, loss=1.07893, emo_loss=0.4586, visual_loss=2.0678, lambda_recon=0.30, lr=8.66e-05]"
     ]
    },
    {
     "name": "stdout",
     "output_type": "stream",
     "text": [
      "Evaluation Results:\n",
      "Mult_acc_2: 0.7018\n",
      "Mult_acc_3: 0.5833\n",
      "Mult_acc_5: 0.3838\n",
      "F1_score: 0.6966\n",
      "MAE: 0.4983\n",
      "Corr: 0.4589\n",
      "Gate Activation Ratio: [[      0.375]\n",
      " [       0.75]\n",
      " [      0.875]]\n"
     ]
    },
    {
     "name": "stderr",
     "output_type": "stream",
     "text": [
      "\n",
      "train [Epoch 56]: 100%|██████████| 86/86 [01:17<00:00,  1.11it/s, loss=0.41354, emo_loss=0.0009, visual_loss=1.2824, RL_loss=0.0557, λ_recon=0.30, λ_RL=0.50, lr=8.60e-05]"
     ]
    },
    {
     "name": "stdout",
     "output_type": "stream",
     "text": [
      "train MAE: 0.0231\n"
     ]
    },
    {
     "name": "stderr",
     "output_type": "stream",
     "text": [
      "\n",
      "eval: 100%|██████████| 8/8 [00:10<00:00,  1.30s/it, loss=1.08101, emo_loss=0.4613, visual_loss=2.0658, lambda_recon=0.30, lr=8.60e-05]"
     ]
    },
    {
     "name": "stdout",
     "output_type": "stream",
     "text": [
      "Evaluation Results:\n",
      "Mult_acc_2: 0.6886\n",
      "Mult_acc_3: 0.5746\n",
      "Mult_acc_5: 0.3662\n",
      "F1_score: 0.6815\n",
      "MAE: 0.4955\n",
      "Corr: 0.4577\n",
      "Gate Activation Ratio: [[      0.875]\n",
      " [       0.25]\n",
      " [      0.875]]\n"
     ]
    },
    {
     "name": "stderr",
     "output_type": "stream",
     "text": [
      "\n",
      "train [Epoch 57]: 100%|██████████| 86/86 [01:19<00:00,  1.08it/s, loss=0.40922, emo_loss=0.0010, visual_loss=1.2773, RL_loss=0.0500, λ_recon=0.30, λ_RL=0.50, lr=8.54e-05]\n"
     ]
    },
    {
     "name": "stdout",
     "output_type": "stream",
     "text": [
      "train MAE: 0.0238\n"
     ]
    },
    {
     "name": "stderr",
     "output_type": "stream",
     "text": [
      "eval: 100%|██████████| 8/8 [00:10<00:00,  1.31s/it, loss=1.06475, emo_loss=0.4450, visual_loss=2.0660, lambda_recon=0.30, lr=8.54e-05]"
     ]
    },
    {
     "name": "stdout",
     "output_type": "stream",
     "text": [
      "Evaluation Results:\n",
      "Mult_acc_2: 0.7039\n",
      "Mult_acc_3: 0.5811\n",
      "Mult_acc_5: 0.3728\n",
      "F1_score: 0.6991\n",
      "MAE: 0.4955\n",
      "Corr: 0.4607\n",
      "Gate Activation Ratio: [[      0.625]\n",
      " [      0.375]\n",
      " [          1]]\n"
     ]
    },
    {
     "name": "stderr",
     "output_type": "stream",
     "text": [
      "\n",
      "train [Epoch 58]: 100%|██████████| 86/86 [01:18<00:00,  1.10it/s, loss=0.41423, emo_loss=0.0055, visual_loss=1.2832, RL_loss=0.0476, λ_recon=0.30, λ_RL=0.50, lr=8.47e-05]\n"
     ]
    },
    {
     "name": "stdout",
     "output_type": "stream",
     "text": [
      "train MAE: 0.0387\n"
     ]
    },
    {
     "name": "stderr",
     "output_type": "stream",
     "text": [
      "eval: 100%|██████████| 8/8 [00:10<00:00,  1.30s/it, loss=1.07631, emo_loss=0.4567, visual_loss=2.0655, lambda_recon=0.30, lr=8.47e-05]"
     ]
    },
    {
     "name": "stdout",
     "output_type": "stream",
     "text": [
      "Evaluation Results:\n",
      "Mult_acc_2: 0.7500\n",
      "Mult_acc_3: 0.6096\n",
      "Mult_acc_5: 0.3816\n",
      "F1_score: 0.7587\n",
      "MAE: 0.4878\n",
      "Corr: 0.4602\n",
      "Gate Activation Ratio: [[       0.75]\n",
      " [       0.25]\n",
      " [          1]]\n"
     ]
    },
    {
     "name": "stderr",
     "output_type": "stream",
     "text": [
      "\n",
      "train [Epoch 59]: 100%|██████████| 86/86 [01:19<00:00,  1.08it/s, loss=0.45640, emo_loss=0.0260, visual_loss=1.3541, RL_loss=0.0483, λ_recon=0.30, λ_RL=0.50, lr=8.41e-05]\n"
     ]
    },
    {
     "name": "stdout",
     "output_type": "stream",
     "text": [
      "train MAE: 0.1002\n"
     ]
    },
    {
     "name": "stderr",
     "output_type": "stream",
     "text": [
      "eval: 100%|██████████| 8/8 [00:10<00:00,  1.34s/it, loss=1.07122, emo_loss=0.4545, visual_loss=2.0556, lambda_recon=0.30, lr=8.41e-05]"
     ]
    },
    {
     "name": "stdout",
     "output_type": "stream",
     "text": [
      "Evaluation Results:\n",
      "Mult_acc_2: 0.7105\n",
      "Mult_acc_3: 0.6053\n",
      "Mult_acc_5: 0.3640\n",
      "F1_score: 0.7013\n",
      "MAE: 0.4979\n",
      "Corr: 0.4769\n",
      "Gate Activation Ratio: [[       0.75]\n",
      " [      0.125]\n",
      " [          1]]\n"
     ]
    },
    {
     "name": "stderr",
     "output_type": "stream",
     "text": [
      "\n",
      "train [Epoch 60]: 100%|██████████| 86/86 [01:18<00:00,  1.10it/s, loss=0.41896, emo_loss=0.0060, visual_loss=1.3028, RL_loss=0.0442, λ_recon=0.30, λ_RL=0.50, lr=8.35e-05]\n"
     ]
    },
    {
     "name": "stdout",
     "output_type": "stream",
     "text": [
      "train MAE: 0.0458\n"
     ]
    },
    {
     "name": "stderr",
     "output_type": "stream",
     "text": [
      "eval: 100%|██████████| 8/8 [00:10<00:00,  1.26s/it, loss=1.05580, emo_loss=0.4368, visual_loss=2.0635, lambda_recon=0.30, lr=8.35e-05]"
     ]
    },
    {
     "name": "stdout",
     "output_type": "stream",
     "text": [
      "Evaluation Results:\n",
      "Mult_acc_2: 0.7105\n",
      "Mult_acc_3: 0.6118\n",
      "Mult_acc_5: 0.3925\n",
      "F1_score: 0.7060\n",
      "MAE: 0.4841\n",
      "Corr: 0.4818\n",
      "Gate Activation Ratio: [[      0.875]\n",
      " [      0.375]\n",
      " [          1]]\n"
     ]
    },
    {
     "name": "stderr",
     "output_type": "stream",
     "text": [
      "\n",
      "train [Epoch 61]: 100%|██████████| 86/86 [01:16<00:00,  1.12it/s, loss=0.41101, emo_loss=0.0026, visual_loss=1.2862, RL_loss=0.0450, λ_recon=0.30, λ_RL=0.50, lr=8.28e-05]\n"
     ]
    },
    {
     "name": "stdout",
     "output_type": "stream",
     "text": [
      "train MAE: 0.0345\n"
     ]
    },
    {
     "name": "stderr",
     "output_type": "stream",
     "text": [
      "eval: 100%|██████████| 8/8 [00:09<00:00,  1.21s/it, loss=1.05834, emo_loss=0.4424, visual_loss=2.0532, lambda_recon=0.30, lr=8.28e-05]"
     ]
    },
    {
     "name": "stdout",
     "output_type": "stream",
     "text": [
      "Evaluation Results:\n",
      "Mult_acc_2: 0.6996\n",
      "Mult_acc_3: 0.5877\n",
      "Mult_acc_5: 0.3728\n",
      "F1_score: 0.6894\n",
      "MAE: 0.4852\n",
      "Corr: 0.4883\n",
      "Gate Activation Ratio: [[      0.625]\n",
      " [      0.375]\n",
      " [          1]]\n"
     ]
    },
    {
     "name": "stderr",
     "output_type": "stream",
     "text": [
      "\n",
      "train [Epoch 62]: 100%|██████████| 86/86 [01:18<00:00,  1.10it/s, loss=0.40724, emo_loss=0.0016, visual_loss=1.2859, RL_loss=0.0398, λ_recon=0.30, λ_RL=0.50, lr=8.21e-05]\n"
     ]
    },
    {
     "name": "stdout",
     "output_type": "stream",
     "text": [
      "train MAE: 0.0261\n"
     ]
    },
    {
     "name": "stderr",
     "output_type": "stream",
     "text": [
      "eval: 100%|██████████| 8/8 [00:10<00:00,  1.30s/it, loss=1.08365, emo_loss=0.4625, visual_loss=2.0706, lambda_recon=0.30, lr=8.21e-05]"
     ]
    },
    {
     "name": "stdout",
     "output_type": "stream",
     "text": [
      "Evaluation Results:\n",
      "Mult_acc_2: 0.6754\n",
      "Mult_acc_3: 0.5921\n",
      "Mult_acc_5: 0.3728\n",
      "F1_score: 0.6660\n",
      "MAE: 0.5049\n",
      "Corr: 0.4636\n",
      "Gate Activation Ratio: [[       0.75]\n",
      " [      0.375]\n",
      " [          1]]\n"
     ]
    },
    {
     "name": "stderr",
     "output_type": "stream",
     "text": [
      "\n",
      "train [Epoch 63]: 100%|██████████| 86/86 [01:17<00:00,  1.12it/s, loss=0.40146, emo_loss=0.0030, visual_loss=1.2754, RL_loss=0.0317, λ_recon=0.30, λ_RL=0.50, lr=8.15e-05]\n"
     ]
    },
    {
     "name": "stdout",
     "output_type": "stream",
     "text": [
      "train MAE: 0.0287\n"
     ]
    },
    {
     "name": "stderr",
     "output_type": "stream",
     "text": [
      "eval: 100%|██████████| 8/8 [00:10<00:00,  1.25s/it, loss=1.06243, emo_loss=0.4451, visual_loss=2.0577, lambda_recon=0.30, lr=8.15e-05]"
     ]
    },
    {
     "name": "stdout",
     "output_type": "stream",
     "text": [
      "Evaluation Results:\n",
      "Mult_acc_2: 0.7149\n",
      "Mult_acc_3: 0.5921\n",
      "Mult_acc_5: 0.3794\n",
      "F1_score: 0.7100\n",
      "MAE: 0.4866\n",
      "Corr: 0.4652\n",
      "Gate Activation Ratio: [[      0.875]\n",
      " [      0.125]\n",
      " [          1]]\n"
     ]
    },
    {
     "name": "stderr",
     "output_type": "stream",
     "text": [
      "\n",
      "train [Epoch 64]: 100%|██████████| 86/86 [01:16<00:00,  1.13it/s, loss=0.39651, emo_loss=0.0020, visual_loss=1.2669, RL_loss=0.0288, λ_recon=0.30, λ_RL=0.50, lr=8.08e-05]\n"
     ]
    },
    {
     "name": "stdout",
     "output_type": "stream",
     "text": [
      "train MAE: 0.0267\n"
     ]
    },
    {
     "name": "stderr",
     "output_type": "stream",
     "text": [
      "eval: 100%|██████████| 8/8 [00:10<00:00,  1.37s/it, loss=1.07146, emo_loss=0.4537, visual_loss=2.0593, lambda_recon=0.30, lr=8.08e-05]"
     ]
    },
    {
     "name": "stdout",
     "output_type": "stream",
     "text": [
      "Evaluation Results:\n",
      "Mult_acc_2: 0.7061\n",
      "Mult_acc_3: 0.6053\n",
      "Mult_acc_5: 0.3904\n",
      "F1_score: 0.6999\n",
      "MAE: 0.4911\n",
      "Corr: 0.4633\n",
      "Gate Activation Ratio: [[      0.625]\n",
      " [       0.25]\n",
      " [          1]]\n"
     ]
    },
    {
     "name": "stderr",
     "output_type": "stream",
     "text": [
      "\n",
      "train [Epoch 65]: 100%|██████████| 86/86 [01:16<00:00,  1.12it/s, loss=0.40346, emo_loss=0.0037, visual_loss=1.2799, RL_loss=0.0316, λ_recon=0.30, λ_RL=0.50, lr=8.01e-05]\n"
     ]
    },
    {
     "name": "stdout",
     "output_type": "stream",
     "text": [
      "train MAE: 0.0322\n"
     ]
    },
    {
     "name": "stderr",
     "output_type": "stream",
     "text": [
      "eval: 100%|██████████| 8/8 [00:12<00:00,  1.51s/it, loss=1.06015, emo_loss=0.4463, visual_loss=2.0461, lambda_recon=0.30, lr=8.01e-05]"
     ]
    },
    {
     "name": "stdout",
     "output_type": "stream",
     "text": [
      "Evaluation Results:\n",
      "Mult_acc_2: 0.6952\n",
      "Mult_acc_3: 0.5833\n",
      "Mult_acc_5: 0.3728\n",
      "F1_score: 0.6843\n",
      "MAE: 0.4862\n",
      "Corr: 0.4841\n",
      "Gate Activation Ratio: [[      0.875]\n",
      " [          0]\n",
      " [      0.875]]\n"
     ]
    },
    {
     "name": "stderr",
     "output_type": "stream",
     "text": [
      "\n",
      "train [Epoch 66]: 100%|██████████| 86/86 [01:19<00:00,  1.08it/s, loss=0.40433, emo_loss=0.0023, visual_loss=1.2843, RL_loss=0.0334, λ_recon=0.30, λ_RL=0.50, lr=7.94e-05]\n"
     ]
    },
    {
     "name": "stdout",
     "output_type": "stream",
     "text": [
      "train MAE: 0.0297\n"
     ]
    },
    {
     "name": "stderr",
     "output_type": "stream",
     "text": [
      "eval: 100%|██████████| 8/8 [00:11<00:00,  1.45s/it, loss=1.06178, emo_loss=0.4435, visual_loss=2.0609, lambda_recon=0.30, lr=7.94e-05]"
     ]
    },
    {
     "name": "stdout",
     "output_type": "stream",
     "text": [
      "Evaluation Results:\n",
      "Mult_acc_2: 0.6974\n",
      "Mult_acc_3: 0.5746\n",
      "Mult_acc_5: 0.3596\n",
      "F1_score: 0.6875\n",
      "MAE: 0.4860\n",
      "Corr: 0.4762\n",
      "Gate Activation Ratio: [[      0.875]\n",
      " [          0]\n",
      " [          1]]\n"
     ]
    },
    {
     "name": "stderr",
     "output_type": "stream",
     "text": [
      "\n",
      "train [Epoch 67]: 100%|██████████| 86/86 [01:16<00:00,  1.12it/s, loss=0.40193, emo_loss=0.0009, visual_loss=1.2765, RL_loss=0.0362, λ_recon=0.30, λ_RL=0.50, lr=7.87e-05]\n"
     ]
    },
    {
     "name": "stdout",
     "output_type": "stream",
     "text": [
      "train MAE: 0.0201\n"
     ]
    },
    {
     "name": "stderr",
     "output_type": "stream",
     "text": [
      "eval: 100%|██████████| 8/8 [00:10<00:00,  1.27s/it, loss=1.05269, emo_loss=0.4328, visual_loss=2.0664, lambda_recon=0.30, lr=7.87e-05]"
     ]
    },
    {
     "name": "stdout",
     "output_type": "stream",
     "text": [
      "Evaluation Results:\n",
      "Mult_acc_2: 0.6798\n",
      "Mult_acc_3: 0.5768\n",
      "Mult_acc_5: 0.3596\n",
      "F1_score: 0.6689\n",
      "MAE: 0.4876\n",
      "Corr: 0.4870\n",
      "Gate Activation Ratio: [[      0.875]\n",
      " [          0]\n",
      " [          1]]\n"
     ]
    },
    {
     "name": "stderr",
     "output_type": "stream",
     "text": [
      "\n",
      "train [Epoch 68]: 100%|██████████| 86/86 [01:18<00:00,  1.10it/s, loss=0.40243, emo_loss=0.0010, visual_loss=1.2744, RL_loss=0.0382, λ_recon=0.30, λ_RL=0.50, lr=7.80e-05]\n"
     ]
    },
    {
     "name": "stdout",
     "output_type": "stream",
     "text": [
      "train MAE: 0.0219\n"
     ]
    },
    {
     "name": "stderr",
     "output_type": "stream",
     "text": [
      "eval: 100%|██████████| 8/8 [00:11<00:00,  1.41s/it, loss=1.07227, emo_loss=0.4534, visual_loss=2.0628, lambda_recon=0.30, lr=7.80e-05]"
     ]
    },
    {
     "name": "stdout",
     "output_type": "stream",
     "text": [
      "Evaluation Results:\n",
      "Mult_acc_2: 0.7259\n",
      "Mult_acc_3: 0.5768\n",
      "Mult_acc_5: 0.3750\n",
      "F1_score: 0.7213\n",
      "MAE: 0.4896\n",
      "Corr: 0.4665\n",
      "Gate Activation Ratio: [[      0.875]\n",
      " [          0]\n",
      " [          1]]\n"
     ]
    },
    {
     "name": "stderr",
     "output_type": "stream",
     "text": [
      "\n",
      "train [Epoch 69]: 100%|██████████| 86/86 [01:14<00:00,  1.15it/s, loss=0.40093, emo_loss=0.0007, visual_loss=1.2730, RL_loss=0.0367, λ_recon=0.30, λ_RL=0.50, lr=7.72e-05]\n"
     ]
    },
    {
     "name": "stdout",
     "output_type": "stream",
     "text": [
      "train MAE: 0.0195\n"
     ]
    },
    {
     "name": "stderr",
     "output_type": "stream",
     "text": [
      "eval: 100%|██████████| 8/8 [00:12<00:00,  1.55s/it, loss=1.07236, emo_loss=0.4526, visual_loss=2.0657, lambda_recon=0.30, lr=7.72e-05]"
     ]
    },
    {
     "name": "stdout",
     "output_type": "stream",
     "text": [
      "Evaluation Results:\n",
      "Mult_acc_2: 0.6754\n",
      "Mult_acc_3: 0.5680\n",
      "Mult_acc_5: 0.3706\n",
      "F1_score: 0.6642\n",
      "MAE: 0.4947\n",
      "Corr: 0.4679\n",
      "Gate Activation Ratio: [[      0.875]\n",
      " [      0.125]\n",
      " [          1]]\n"
     ]
    },
    {
     "name": "stderr",
     "output_type": "stream",
     "text": [
      "\n",
      "train [Epoch 70]: 100%|██████████| 86/86 [01:17<00:00,  1.11it/s, loss=0.40153, emo_loss=0.0006, visual_loss=1.2794, RL_loss=0.0341, λ_recon=0.30, λ_RL=0.50, lr=7.65e-05]\n"
     ]
    },
    {
     "name": "stdout",
     "output_type": "stream",
     "text": [
      "train MAE: 0.0190\n"
     ]
    },
    {
     "name": "stderr",
     "output_type": "stream",
     "text": [
      "eval: 100%|██████████| 8/8 [00:11<00:00,  1.42s/it, loss=1.07519, emo_loss=0.4574, visual_loss=2.0592, lambda_recon=0.30, lr=7.65e-05]"
     ]
    },
    {
     "name": "stdout",
     "output_type": "stream",
     "text": [
      "Evaluation Results:\n",
      "Mult_acc_2: 0.7259\n",
      "Mult_acc_3: 0.5811\n",
      "Mult_acc_5: 0.3728\n",
      "F1_score: 0.7213\n",
      "MAE: 0.4889\n",
      "Corr: 0.4754\n",
      "Gate Activation Ratio: [[       0.75]\n",
      " [      0.125]\n",
      " [          1]]\n"
     ]
    },
    {
     "name": "stderr",
     "output_type": "stream",
     "text": [
      "\n",
      "train [Epoch 71]: 100%|██████████| 86/86 [01:18<00:00,  1.09it/s, loss=0.39823, emo_loss=0.0006, visual_loss=1.2746, RL_loss=0.0305, λ_recon=0.30, λ_RL=0.50, lr=7.58e-05]\n"
     ]
    },
    {
     "name": "stdout",
     "output_type": "stream",
     "text": [
      "train MAE: 0.0177\n"
     ]
    },
    {
     "name": "stderr",
     "output_type": "stream",
     "text": [
      "eval: 100%|██████████| 8/8 [00:10<00:00,  1.28s/it, loss=1.06936, emo_loss=0.4523, visual_loss=2.0568, lambda_recon=0.30, lr=7.58e-05]"
     ]
    },
    {
     "name": "stdout",
     "output_type": "stream",
     "text": [
      "Evaluation Results:\n",
      "Mult_acc_2: 0.7039\n",
      "Mult_acc_3: 0.5768\n",
      "Mult_acc_5: 0.3684\n",
      "F1_score: 0.6971\n",
      "MAE: 0.4913\n",
      "Corr: 0.4716\n",
      "Gate Activation Ratio: [[          1]\n",
      " [      0.125]\n",
      " [          1]]\n"
     ]
    },
    {
     "name": "stderr",
     "output_type": "stream",
     "text": [
      "\n",
      "train [Epoch 72]: 100%|██████████| 86/86 [01:18<00:00,  1.09it/s, loss=0.39437, emo_loss=0.0008, visual_loss=1.2648, RL_loss=0.0282, λ_recon=0.30, λ_RL=0.50, lr=7.50e-05]\n"
     ]
    },
    {
     "name": "stdout",
     "output_type": "stream",
     "text": [
      "train MAE: 0.0210\n"
     ]
    },
    {
     "name": "stderr",
     "output_type": "stream",
     "text": [
      "eval: 100%|██████████| 8/8 [00:11<00:00,  1.44s/it, loss=1.06667, emo_loss=0.4480, visual_loss=2.0622, lambda_recon=0.30, lr=7.50e-05]"
     ]
    },
    {
     "name": "stdout",
     "output_type": "stream",
     "text": [
      "Evaluation Results:\n",
      "Mult_acc_2: 0.7039\n",
      "Mult_acc_3: 0.5768\n",
      "Mult_acc_5: 0.3553\n",
      "F1_score: 0.6949\n",
      "MAE: 0.4895\n",
      "Corr: 0.4765\n",
      "Gate Activation Ratio: [[      0.875]\n",
      " [      0.125]\n",
      " [          1]]\n"
     ]
    },
    {
     "name": "stderr",
     "output_type": "stream",
     "text": [
      "\n",
      "train [Epoch 73]: 100%|██████████| 86/86 [01:16<00:00,  1.13it/s, loss=0.39606, emo_loss=0.0005, visual_loss=1.2689, RL_loss=0.0298, λ_recon=0.30, λ_RL=0.50, lr=7.42e-05]\n"
     ]
    },
    {
     "name": "stdout",
     "output_type": "stream",
     "text": [
      "train MAE: 0.0163\n"
     ]
    },
    {
     "name": "stderr",
     "output_type": "stream",
     "text": [
      "eval: 100%|██████████| 8/8 [00:09<00:00,  1.23s/it, loss=1.07520, emo_loss=0.4573, visual_loss=2.0597, lambda_recon=0.30, lr=7.42e-05]"
     ]
    },
    {
     "name": "stdout",
     "output_type": "stream",
     "text": [
      "Evaluation Results:\n",
      "Mult_acc_2: 0.7171\n",
      "Mult_acc_3: 0.5724\n",
      "Mult_acc_5: 0.3662\n",
      "F1_score: 0.7102\n",
      "MAE: 0.4911\n",
      "Corr: 0.4783\n",
      "Gate Activation Ratio: [[       0.75]\n",
      " [      0.125]\n",
      " [          1]]\n"
     ]
    },
    {
     "name": "stderr",
     "output_type": "stream",
     "text": [
      "\n",
      "train [Epoch 74]: 100%|██████████| 86/86 [01:19<00:00,  1.08it/s, loss=0.39722, emo_loss=0.0005, visual_loss=1.2706, RL_loss=0.0310, λ_recon=0.30, λ_RL=0.50, lr=7.35e-05]\n"
     ]
    },
    {
     "name": "stdout",
     "output_type": "stream",
     "text": [
      "train MAE: 0.0175\n"
     ]
    },
    {
     "name": "stderr",
     "output_type": "stream",
     "text": [
      "eval: 100%|██████████| 8/8 [00:11<00:00,  1.44s/it, loss=1.08334, emo_loss=0.4650, visual_loss=2.0610, lambda_recon=0.30, lr=7.35e-05]"
     ]
    },
    {
     "name": "stdout",
     "output_type": "stream",
     "text": [
      "Evaluation Results:\n",
      "Mult_acc_2: 0.7061\n",
      "Mult_acc_3: 0.5592\n",
      "Mult_acc_5: 0.3706\n",
      "F1_score: 0.6976\n",
      "MAE: 0.4937\n",
      "Corr: 0.4719\n",
      "Gate Activation Ratio: [[       0.75]\n",
      " [      0.125]\n",
      " [          1]]\n"
     ]
    },
    {
     "name": "stderr",
     "output_type": "stream",
     "text": [
      "\n",
      "train [Epoch 75]: 100%|██████████| 86/86 [01:20<00:00,  1.07it/s, loss=0.39397, emo_loss=0.0005, visual_loss=1.2636, RL_loss=0.0288, λ_recon=0.30, λ_RL=0.50, lr=7.27e-05]\n"
     ]
    },
    {
     "name": "stdout",
     "output_type": "stream",
     "text": [
      "train MAE: 0.0169\n"
     ]
    },
    {
     "name": "stderr",
     "output_type": "stream",
     "text": [
      "eval: 100%|██████████| 8/8 [00:10<00:00,  1.32s/it, loss=1.08618, emo_loss=0.4662, visual_loss=2.0666, lambda_recon=0.30, lr=7.27e-05]"
     ]
    },
    {
     "name": "stdout",
     "output_type": "stream",
     "text": [
      "Evaluation Results:\n",
      "Mult_acc_2: 0.6974\n",
      "Mult_acc_3: 0.5680\n",
      "Mult_acc_5: 0.3662\n",
      "F1_score: 0.6882\n",
      "MAE: 0.4938\n",
      "Corr: 0.4752\n",
      "Gate Activation Ratio: [[      0.875]\n",
      " [          0]\n",
      " [          1]]\n"
     ]
    },
    {
     "name": "stderr",
     "output_type": "stream",
     "text": [
      "\n",
      "train [Epoch 76]: 100%|██████████| 86/86 [01:15<00:00,  1.13it/s, loss=0.39655, emo_loss=0.0004, visual_loss=1.2667, RL_loss=0.0322, λ_recon=0.30, λ_RL=0.50, lr=7.19e-05]\n"
     ]
    },
    {
     "name": "stdout",
     "output_type": "stream",
     "text": [
      "train MAE: 0.0158\n"
     ]
    },
    {
     "name": "stderr",
     "output_type": "stream",
     "text": [
      "eval: 100%|██████████| 8/8 [00:10<00:00,  1.32s/it, loss=1.08858, emo_loss=0.4710, visual_loss=2.0586, lambda_recon=0.30, lr=7.19e-05]"
     ]
    },
    {
     "name": "stdout",
     "output_type": "stream",
     "text": [
      "Evaluation Results:\n",
      "Mult_acc_2: 0.6842\n",
      "Mult_acc_3: 0.5680\n",
      "Mult_acc_5: 0.3772\n",
      "F1_score: 0.6739\n",
      "MAE: 0.4945\n",
      "Corr: 0.4715\n",
      "Gate Activation Ratio: [[      0.875]\n",
      " [          0]\n",
      " [          1]]\n"
     ]
    },
    {
     "name": "stderr",
     "output_type": "stream",
     "text": [
      "\n",
      "train [Epoch 77]: 100%|██████████| 86/86 [01:15<00:00,  1.14it/s, loss=0.39543, emo_loss=0.0005, visual_loss=1.2648, RL_loss=0.0310, λ_recon=0.30, λ_RL=0.50, lr=7.11e-05]\n"
     ]
    },
    {
     "name": "stdout",
     "output_type": "stream",
     "text": [
      "train MAE: 0.0169\n"
     ]
    },
    {
     "name": "stderr",
     "output_type": "stream",
     "text": [
      "eval: 100%|██████████| 8/8 [00:11<00:00,  1.44s/it, loss=1.09056, emo_loss=0.4709, visual_loss=2.0655, lambda_recon=0.30, lr=7.11e-05]"
     ]
    },
    {
     "name": "stdout",
     "output_type": "stream",
     "text": [
      "Evaluation Results:\n",
      "Mult_acc_2: 0.6996\n",
      "Mult_acc_3: 0.5658\n",
      "Mult_acc_5: 0.3662\n",
      "F1_score: 0.6904\n",
      "MAE: 0.4975\n",
      "Corr: 0.4709\n",
      "Gate Activation Ratio: [[          1]\n",
      " [          0]\n",
      " [          1]]\n"
     ]
    },
    {
     "name": "stderr",
     "output_type": "stream",
     "text": [
      "\n",
      "train [Epoch 78]: 100%|██████████| 86/86 [01:17<00:00,  1.10it/s, loss=0.39685, emo_loss=0.0004, visual_loss=1.2703, RL_loss=0.0308, λ_recon=0.30, λ_RL=0.50, lr=7.03e-05]\n"
     ]
    },
    {
     "name": "stdout",
     "output_type": "stream",
     "text": [
      "train MAE: 0.0139\n"
     ]
    },
    {
     "name": "stderr",
     "output_type": "stream",
     "text": [
      "eval: 100%|██████████| 8/8 [00:11<00:00,  1.41s/it, loss=1.08058, emo_loss=0.4608, visual_loss=2.0658, lambda_recon=0.30, lr=7.03e-05]"
     ]
    },
    {
     "name": "stdout",
     "output_type": "stream",
     "text": [
      "Evaluation Results:\n",
      "Mult_acc_2: 0.7083\n",
      "Mult_acc_3: 0.5768\n",
      "Mult_acc_5: 0.3728\n",
      "F1_score: 0.7005\n",
      "MAE: 0.4950\n",
      "Corr: 0.4715\n",
      "Gate Activation Ratio: [[      0.625]\n",
      " [          0]\n",
      " [          1]]\n"
     ]
    },
    {
     "name": "stderr",
     "output_type": "stream",
     "text": [
      "\n",
      "train [Epoch 79]: 100%|██████████| 86/86 [01:24<00:00,  1.02it/s, loss=0.39385, emo_loss=0.0004, visual_loss=1.2644, RL_loss=0.0283, λ_recon=0.30, λ_RL=0.50, lr=6.95e-05]\n"
     ]
    },
    {
     "name": "stdout",
     "output_type": "stream",
     "text": [
      "train MAE: 0.0141\n"
     ]
    }
   ],
   "source": [
    "for epoch in range(1, epochs + 1):\n",
    "    train(model, train_loader, optimizer, epoch)\n",
    "    evaluate(model, val_loader, optimizer, epoch)  \n",
    "    scheduler_warmup.step()"
   ]
  },
  {
   "cell_type": "code",
   "execution_count": null,
   "metadata": {},
   "outputs": [],
   "source": []
  }
 ],
 "metadata": {
  "kernelspec": {
   "display_name": "Python (MultiModal)",
   "language": "python",
   "name": "multimodal"
  },
  "language_info": {
   "codemirror_mode": {
    "name": "ipython",
    "version": 3
   },
   "file_extension": ".py",
   "mimetype": "text/x-python",
   "name": "python",
   "nbconvert_exporter": "python",
   "pygments_lexer": "ipython3",
   "version": "3.8.20"
  }
 },
 "nbformat": 4,
 "nbformat_minor": 4
}
